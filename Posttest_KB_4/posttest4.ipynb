{
 "cells": [
  {
   "cell_type": "code",
   "execution_count": 33,
   "id": "c56d4547-8ebb-43eb-a76e-b190b589ced6",
   "metadata": {
    "tags": []
   },
   "outputs": [],
   "source": [
    "import pandas as pd\n",
    "import numpy as np\n",
    "from sklearn.model_selection import train_test_split\n",
    "import matplotlib.pyplot as plt\n",
    "\n",
    "# untuk data transform\n",
    "from sklearn.preprocessing import StandardScaler\n",
    "from sklearn.preprocessing import MinMaxScaler\n",
    "# untuk data split\n",
    "from sklearn.model_selection import train_test_split\n",
    "# untuk data cleaning\n",
    "from sklearn.impute import SimpleImputer\n",
    "# untuk data encoding\n",
    "from sklearn.preprocessing import OrdinalEncoder\n",
    "from sklearn.preprocessing import OneHotEncoder"
   ]
  },
  {
   "cell_type": "markdown",
   "id": "1c171057-3842-4fd0-8645-ff27827d3da2",
   "metadata": {},
   "source": [
    "# Mengambil dataset poe_stats.csv dan Menampilkan beberapa informasi"
   ]
  },
  {
   "cell_type": "code",
   "execution_count": 34,
   "id": "fba53d6a-251c-4e59-bb47-b20600b18826",
   "metadata": {},
   "outputs": [
    {
     "data": {
      "text/html": [
       "<div>\n",
       "<style scoped>\n",
       "    .dataframe tbody tr th:only-of-type {\n",
       "        vertical-align: middle;\n",
       "    }\n",
       "\n",
       "    .dataframe tbody tr th {\n",
       "        vertical-align: top;\n",
       "    }\n",
       "\n",
       "    .dataframe thead th {\n",
       "        text-align: right;\n",
       "    }\n",
       "</style>\n",
       "<table border=\"1\" class=\"dataframe\">\n",
       "  <thead>\n",
       "    <tr style=\"text-align: right;\">\n",
       "      <th></th>\n",
       "      <th>rank</th>\n",
       "      <th>dead</th>\n",
       "      <th>online</th>\n",
       "      <th>name</th>\n",
       "      <th>level</th>\n",
       "      <th>class</th>\n",
       "      <th>id</th>\n",
       "      <th>experience</th>\n",
       "      <th>account</th>\n",
       "      <th>challenges</th>\n",
       "      <th>twitch</th>\n",
       "      <th>ladder</th>\n",
       "    </tr>\n",
       "  </thead>\n",
       "  <tbody>\n",
       "    <tr>\n",
       "      <th>0</th>\n",
       "      <td>1.0</td>\n",
       "      <td>False</td>\n",
       "      <td>False</td>\n",
       "      <td>Tzn_NecroIsFineNow</td>\n",
       "      <td>100.0</td>\n",
       "      <td>Necromancer</td>\n",
       "      <td>3dcddd59f5088893f734f39686350990dae168cc4f4b00...</td>\n",
       "      <td>4.250334e+09</td>\n",
       "      <td>TheTzn</td>\n",
       "      <td>40.0</td>\n",
       "      <td>thetzn</td>\n",
       "      <td>Harbinger</td>\n",
       "    </tr>\n",
       "    <tr>\n",
       "      <th>1</th>\n",
       "      <td>1.0</td>\n",
       "      <td>False</td>\n",
       "      <td>False</td>\n",
       "      <td>RaizNeverFirstQT</td>\n",
       "      <td>100.0</td>\n",
       "      <td>Necromancer</td>\n",
       "      <td>8f3216db5ac9106c287a834731aafc83c387138f28fc45...</td>\n",
       "      <td>4.250334e+09</td>\n",
       "      <td>RaizQT</td>\n",
       "      <td>22.0</td>\n",
       "      <td>raizqt</td>\n",
       "      <td>SSF Harbinger HC</td>\n",
       "    </tr>\n",
       "    <tr>\n",
       "      <th>2</th>\n",
       "      <td>1.0</td>\n",
       "      <td>False</td>\n",
       "      <td>False</td>\n",
       "      <td>GucciStreamerAdvantage</td>\n",
       "      <td>100.0</td>\n",
       "      <td>Necromancer</td>\n",
       "      <td>c6ec2dae3855c551e0597c06ef2da06fbb5512487ded7f...</td>\n",
       "      <td>4.250334e+09</td>\n",
       "      <td>GucciPradas</td>\n",
       "      <td>35.0</td>\n",
       "      <td>guccipradas</td>\n",
       "      <td>Hardcore Harbinger</td>\n",
       "    </tr>\n",
       "    <tr>\n",
       "      <th>3</th>\n",
       "      <td>1.0</td>\n",
       "      <td>False</td>\n",
       "      <td>False</td>\n",
       "      <td>ChiroxPrime</td>\n",
       "      <td>100.0</td>\n",
       "      <td>Slayer</td>\n",
       "      <td>c861372da792be0b22c45bf437ccd58437c52e9455e0bf...</td>\n",
       "      <td>4.250334e+09</td>\n",
       "      <td>Chiroxun</td>\n",
       "      <td>26.0</td>\n",
       "      <td>NaN</td>\n",
       "      <td>SSF Harbinger</td>\n",
       "    </tr>\n",
       "    <tr>\n",
       "      <th>4</th>\n",
       "      <td>2.0</td>\n",
       "      <td>False</td>\n",
       "      <td>False</td>\n",
       "      <td>Cool_NecroIsFineNow</td>\n",
       "      <td>100.0</td>\n",
       "      <td>Deadeye</td>\n",
       "      <td>24ae924ceed7989ef3d3d6772612832bb467a6094352c7...</td>\n",
       "      <td>4.250334e+09</td>\n",
       "      <td>cooltail</td>\n",
       "      <td>22.0</td>\n",
       "      <td>NaN</td>\n",
       "      <td>Harbinger</td>\n",
       "    </tr>\n",
       "    <tr>\n",
       "      <th>5</th>\n",
       "      <td>2.0</td>\n",
       "      <td>False</td>\n",
       "      <td>False</td>\n",
       "      <td>SteelStreamerAdvantage</td>\n",
       "      <td>100.0</td>\n",
       "      <td>Deadeye</td>\n",
       "      <td>51acb8e6fac3cfaa7ff848151dad01b0a6f350e7525543...</td>\n",
       "      <td>4.250334e+09</td>\n",
       "      <td>Steelmage</td>\n",
       "      <td>37.0</td>\n",
       "      <td>steelmage202</td>\n",
       "      <td>Hardcore Harbinger</td>\n",
       "    </tr>\n",
       "    <tr>\n",
       "      <th>6</th>\n",
       "      <td>2.0</td>\n",
       "      <td>False</td>\n",
       "      <td>False</td>\n",
       "      <td>Grom_WhyGodThreeCmWhy</td>\n",
       "      <td>100.0</td>\n",
       "      <td>Gladiator</td>\n",
       "      <td>5d8b80b2bdd30f3dba1036a6791187562758935e8d4723...</td>\n",
       "      <td>4.250334e+09</td>\n",
       "      <td>rocklegend</td>\n",
       "      <td>22.0</td>\n",
       "      <td>gromick</td>\n",
       "      <td>SSF Harbinger HC</td>\n",
       "    </tr>\n",
       "    <tr>\n",
       "      <th>7</th>\n",
       "      <td>2.0</td>\n",
       "      <td>False</td>\n",
       "      <td>False</td>\n",
       "      <td>beobio_capitan</td>\n",
       "      <td>100.0</td>\n",
       "      <td>Inquisitor</td>\n",
       "      <td>65c58f9b186e1fbe9f927484f3f178cdb9ee0dc2427289...</td>\n",
       "      <td>4.250334e+09</td>\n",
       "      <td>TishaVosemsot</td>\n",
       "      <td>40.0</td>\n",
       "      <td>beobio</td>\n",
       "      <td>SSF Harbinger</td>\n",
       "    </tr>\n",
       "    <tr>\n",
       "      <th>8</th>\n",
       "      <td>3.0</td>\n",
       "      <td>False</td>\n",
       "      <td>False</td>\n",
       "      <td>Rami_The_Negromaniac</td>\n",
       "      <td>100.0</td>\n",
       "      <td>Necromancer</td>\n",
       "      <td>00c0030fc548cc4c0d804564f8fb356610044b7e6d484f...</td>\n",
       "      <td>4.250334e+09</td>\n",
       "      <td>rami1337</td>\n",
       "      <td>40.0</td>\n",
       "      <td>rami1337</td>\n",
       "      <td>Harbinger</td>\n",
       "    </tr>\n",
       "    <tr>\n",
       "      <th>9</th>\n",
       "      <td>3.0</td>\n",
       "      <td>False</td>\n",
       "      <td>False</td>\n",
       "      <td>FutonBlewAway</td>\n",
       "      <td>100.0</td>\n",
       "      <td>Raider</td>\n",
       "      <td>46e56572ff6e403f45fac597240e13e9af225f06ca4e52...</td>\n",
       "      <td>4.250334e+09</td>\n",
       "      <td>pleaGRC</td>\n",
       "      <td>40.0</td>\n",
       "      <td>NaN</td>\n",
       "      <td>SSF Harbinger</td>\n",
       "    </tr>\n",
       "  </tbody>\n",
       "</table>\n",
       "</div>"
      ],
      "text/plain": [
       "   rank   dead online                    name  level        class  \\\n",
       "0   1.0  False  False      Tzn_NecroIsFineNow  100.0  Necromancer   \n",
       "1   1.0  False  False        RaizNeverFirstQT  100.0  Necromancer   \n",
       "2   1.0  False  False  GucciStreamerAdvantage  100.0  Necromancer   \n",
       "3   1.0  False  False             ChiroxPrime  100.0       Slayer   \n",
       "4   2.0  False  False     Cool_NecroIsFineNow  100.0      Deadeye   \n",
       "5   2.0  False  False  SteelStreamerAdvantage  100.0      Deadeye   \n",
       "6   2.0  False  False   Grom_WhyGodThreeCmWhy  100.0    Gladiator   \n",
       "7   2.0  False  False          beobio_capitan  100.0   Inquisitor   \n",
       "8   3.0  False  False    Rami_The_Negromaniac  100.0  Necromancer   \n",
       "9   3.0  False  False           FutonBlewAway  100.0       Raider   \n",
       "\n",
       "                                                  id    experience  \\\n",
       "0  3dcddd59f5088893f734f39686350990dae168cc4f4b00...  4.250334e+09   \n",
       "1  8f3216db5ac9106c287a834731aafc83c387138f28fc45...  4.250334e+09   \n",
       "2  c6ec2dae3855c551e0597c06ef2da06fbb5512487ded7f...  4.250334e+09   \n",
       "3  c861372da792be0b22c45bf437ccd58437c52e9455e0bf...  4.250334e+09   \n",
       "4  24ae924ceed7989ef3d3d6772612832bb467a6094352c7...  4.250334e+09   \n",
       "5  51acb8e6fac3cfaa7ff848151dad01b0a6f350e7525543...  4.250334e+09   \n",
       "6  5d8b80b2bdd30f3dba1036a6791187562758935e8d4723...  4.250334e+09   \n",
       "7  65c58f9b186e1fbe9f927484f3f178cdb9ee0dc2427289...  4.250334e+09   \n",
       "8  00c0030fc548cc4c0d804564f8fb356610044b7e6d484f...  4.250334e+09   \n",
       "9  46e56572ff6e403f45fac597240e13e9af225f06ca4e52...  4.250334e+09   \n",
       "\n",
       "         account  challenges        twitch              ladder  \n",
       "0         TheTzn        40.0        thetzn           Harbinger  \n",
       "1         RaizQT        22.0        raizqt    SSF Harbinger HC  \n",
       "2    GucciPradas        35.0   guccipradas  Hardcore Harbinger  \n",
       "3       Chiroxun        26.0           NaN       SSF Harbinger  \n",
       "4       cooltail        22.0           NaN           Harbinger  \n",
       "5      Steelmage        37.0  steelmage202  Hardcore Harbinger  \n",
       "6     rocklegend        22.0       gromick    SSF Harbinger HC  \n",
       "7  TishaVosemsot        40.0        beobio       SSF Harbinger  \n",
       "8       rami1337        40.0      rami1337           Harbinger  \n",
       "9        pleaGRC        40.0           NaN       SSF Harbinger  "
      ]
     },
     "execution_count": 34,
     "metadata": {},
     "output_type": "execute_result"
    }
   ],
   "source": [
    "df = pd.read_csv(\"poe_stats.csv\")\n",
    "df.head(10)"
   ]
  },
  {
   "cell_type": "markdown",
   "id": "84e60dc7-5032-4e70-82b1-70166e8bd72c",
   "metadata": {},
   "source": [
    "# Untuk menemukan apakah sebuah atau sekelompok kolom tersebut berisi nilai null atau tidak,"
   ]
  },
  {
   "cell_type": "code",
   "execution_count": 35,
   "id": "55b55608-6663-4dd0-9307-3afe319247e1",
   "metadata": {},
   "outputs": [
    {
     "name": "stdout",
     "output_type": "stream",
     "text": [
      "<class 'pandas.core.frame.DataFrame'>\n",
      "RangeIndex: 21579 entries, 0 to 21578\n",
      "Data columns (total 12 columns):\n",
      " #   Column      Non-Null Count  Dtype  \n",
      "---  ------      --------------  -----  \n",
      " 0   rank        10089 non-null  float64\n",
      " 1   dead        10089 non-null  object \n",
      " 2   online      10089 non-null  object \n",
      " 3   name        10089 non-null  object \n",
      " 4   level       10089 non-null  float64\n",
      " 5   class       10089 non-null  object \n",
      " 6   id          10089 non-null  object \n",
      " 7   experience  10089 non-null  float64\n",
      " 8   account     10089 non-null  object \n",
      " 9   challenges  10089 non-null  float64\n",
      " 10  twitch      3292 non-null   object \n",
      " 11  ladder      10089 non-null  object \n",
      "dtypes: float64(4), object(8)\n",
      "memory usage: 2.0+ MB\n"
     ]
    }
   ],
   "source": [
    "df.info()"
   ]
  },
  {
   "cell_type": "markdown",
   "id": "5e1e6044-f81a-4ad1-bdab-eff98dc666c8",
   "metadata": {},
   "source": [
    "Cek Jumlah NaN"
   ]
  },
  {
   "cell_type": "code",
   "execution_count": 36,
   "id": "53447f6a-a97c-4ac8-b505-b1509be6ce31",
   "metadata": {},
   "outputs": [
    {
     "data": {
      "text/plain": [
       "rank          11490\n",
       "dead          11490\n",
       "online        11490\n",
       "name          11490\n",
       "level         11490\n",
       "class         11490\n",
       "id            11490\n",
       "experience    11490\n",
       "account       11490\n",
       "challenges    11490\n",
       "twitch        18287\n",
       "ladder        11490\n",
       "dtype: int64"
      ]
     },
     "execution_count": 36,
     "metadata": {},
     "output_type": "execute_result"
    }
   ],
   "source": [
    "df.isna().sum()"
   ]
  },
  {
   "cell_type": "markdown",
   "id": "df954657-ab41-43f9-ba6f-cdc889aef61f",
   "metadata": {},
   "source": [
    "# Data Cleaning #\n",
    "dan Membuat variable untuk strategi imputer"
   ]
  },
  {
   "cell_type": "markdown",
   "id": "60bf88e5",
   "metadata": {},
   "source": [
    "### Mean"
   ]
  },
  {
   "cell_type": "code",
   "execution_count": 44,
   "id": "f79d1783-cda3-43a0-8115-b6b98960c880",
   "metadata": {},
   "outputs": [],
   "source": [
    "modus = SimpleImputer(strategy='most_frequent' )\n",
    "mean = SimpleImputer(strategy='mean')\n",
    "\n",
    "df['rank'] = mean.fit_transform(df[['rank']])\n",
    "df['level'] = mean.fit_transform(df[['level']])\n",
    "df['experience'] = mean.fit_transform(df[['experience']])\n",
    "df['challenges'] = mean.fit_transform(df[['challenges']])\n"
   ]
  },
  {
   "cell_type": "markdown",
   "id": "819df9c4",
   "metadata": {},
   "source": [
    "### Modus\n"
   ]
  },
  {
   "cell_type": "code",
   "execution_count": 51,
   "id": "2d6eee48",
   "metadata": {},
   "outputs": [],
   "source": [
    "df['dead'] = modus.fit_transform(df[['dead']])\n",
    "df['online'] = modus.fit_transform(df[['online']])\n",
    "df['name'] = modus.fit_transform(df[['name']])\n",
    "df['class'] = modus.fit_transform(df[['class']])\n",
    "df['id'] = modus.fit_transform(df[['id']])\n",
    "df['account'] = modus.fit_transform(df[['account']])\n",
    "df['ladder'] = modus.fit_transform(df[['ladder']])\n",
    "df['twitch'] = modus.fit_transform(df[['twitch']])"
   ]
  },
  {
   "cell_type": "markdown",
   "id": "b9a59f17-88d5-4e48-b672-bed19cb4eb65",
   "metadata": {},
   "source": [
    "Cek data NaN setelah di cleaning"
   ]
  },
  {
   "cell_type": "code",
   "execution_count": 45,
   "id": "1562e9e0-a80c-4d57-9dff-3c04d9d982f2",
   "metadata": {},
   "outputs": [
    {
     "data": {
      "text/plain": [
       "rank          0\n",
       "dead          0\n",
       "online        0\n",
       "name          0\n",
       "level         0\n",
       "class         0\n",
       "id            0\n",
       "experience    0\n",
       "account       0\n",
       "challenges    0\n",
       "twitch        0\n",
       "ladder        0\n",
       "dtype: int64"
      ]
     },
     "execution_count": 45,
     "metadata": {},
     "output_type": "execute_result"
    }
   ],
   "source": [
    "df.isna().sum()"
   ]
  },
  {
   "cell_type": "markdown",
   "id": "6bf147c7-96d3-4a80-9891-a414fb6f67a7",
   "metadata": {},
   "source": [
    "Cek Data Duplicate"
   ]
  },
  {
   "cell_type": "code",
   "execution_count": 39,
   "id": "2a4932f7-922e-4d2b-a626-59033ee84bfd",
   "metadata": {},
   "outputs": [
    {
     "data": {
      "text/plain": [
       "11497"
      ]
     },
     "execution_count": 39,
     "metadata": {},
     "output_type": "execute_result"
    }
   ],
   "source": [
    "df.duplicated().sum()"
   ]
  },
  {
   "cell_type": "code",
   "execution_count": 49,
   "id": "c36086c5-1a00-45b6-adc5-4eb4e90e360f",
   "metadata": {},
   "outputs": [
    {
     "data": {
      "text/plain": [
       "0"
      ]
     },
     "execution_count": 49,
     "metadata": {},
     "output_type": "execute_result"
    }
   ],
   "source": [
    "duplikat = df.copy()\n",
    "\n",
    "duplikat.drop_duplicates(inplace=True)\n",
    "duplikat.duplicated().sum()"
   ]
  },
  {
   "cell_type": "markdown",
   "id": "77883493-6586-4332-a52d-0bb8b3a4081f",
   "metadata": {},
   "source": [
    "# Data Split"
   ]
  },
  {
   "cell_type": "markdown",
   "id": "0dce7b5b-b09a-4a6b-b8d2-379c698218fb",
   "metadata": {},
   "source": [
    "Subset feature dan target"
   ]
  },
  {
   "cell_type": "code",
   "execution_count": 40,
   "id": "b13b5e60-79da-4c66-afb6-ec32864ab09f",
   "metadata": {},
   "outputs": [],
   "source": [
    "data = df[['rank','dead','name','ladder']]\n",
    "label = df['class']\n",
    "\n",
    "data_train, data_test, label_train, label_test = train_test_split(data, label, test_size=0.2)"
   ]
  },
  {
   "cell_type": "code",
   "execution_count": 41,
   "id": "dc9e10b7-c2aa-4062-b8a9-7416a5e1c6c1",
   "metadata": {},
   "outputs": [
    {
     "name": "stdout",
     "output_type": "stream",
     "text": [
      "Dimensi x training  : 17263\n",
      "Dimensi x training  : 4316\n",
      "Dimensi y testing   : 17263\n",
      "Dimensi y testing   : 4316\n"
     ]
    }
   ],
   "source": [
    "print(f'Dimensi x training  : {len(data_train)}',\n",
    "     f'Dimensi x training  : {len(data_test)}',\n",
    "     f'Dimensi y testing   : {len(label_train)}',\n",
    "     f'Dimensi y testing   : {len(label_test)}',\n",
    "     sep='\\n')"
   ]
  },
  {
   "cell_type": "markdown",
   "id": "6a630822",
   "metadata": {},
   "source": [
    "# Normalisasi"
   ]
  },
  {
   "cell_type": "code",
   "execution_count": 52,
   "id": "c91e0320",
   "metadata": {},
   "outputs": [],
   "source": [
    "normalisasi = df.copy()"
   ]
  },
  {
   "cell_type": "code",
   "execution_count": 55,
   "id": "b4974c9c",
   "metadata": {},
   "outputs": [
    {
     "data": {
      "text/html": [
       "<div>\n",
       "<style scoped>\n",
       "    .dataframe tbody tr th:only-of-type {\n",
       "        vertical-align: middle;\n",
       "    }\n",
       "\n",
       "    .dataframe tbody tr th {\n",
       "        vertical-align: top;\n",
       "    }\n",
       "\n",
       "    .dataframe thead th {\n",
       "        text-align: right;\n",
       "    }\n",
       "</style>\n",
       "<table border=\"1\" class=\"dataframe\">\n",
       "  <thead>\n",
       "    <tr style=\"text-align: right;\">\n",
       "      <th></th>\n",
       "      <th>rank</th>\n",
       "      <th>level</th>\n",
       "    </tr>\n",
       "  </thead>\n",
       "  <tbody>\n",
       "    <tr>\n",
       "      <th>0</th>\n",
       "      <td>0.000000</td>\n",
       "      <td>1.0</td>\n",
       "    </tr>\n",
       "    <tr>\n",
       "      <th>1</th>\n",
       "      <td>0.000000</td>\n",
       "      <td>1.0</td>\n",
       "    </tr>\n",
       "    <tr>\n",
       "      <th>2</th>\n",
       "      <td>0.000000</td>\n",
       "      <td>1.0</td>\n",
       "    </tr>\n",
       "    <tr>\n",
       "      <th>3</th>\n",
       "      <td>0.000000</td>\n",
       "      <td>1.0</td>\n",
       "    </tr>\n",
       "    <tr>\n",
       "      <th>4</th>\n",
       "      <td>0.000396</td>\n",
       "      <td>1.0</td>\n",
       "    </tr>\n",
       "  </tbody>\n",
       "</table>\n",
       "</div>"
      ],
      "text/plain": [
       "       rank  level\n",
       "0  0.000000    1.0\n",
       "1  0.000000    1.0\n",
       "2  0.000000    1.0\n",
       "3  0.000000    1.0\n",
       "4  0.000396    1.0"
      ]
     },
     "execution_count": 55,
     "metadata": {},
     "output_type": "execute_result"
    }
   ],
   "source": [
    "scaler = MinMaxScaler()\n",
    "\n",
    "normalisasi = scaler.fit_transform(normalisasi[['rank', 'level']]) \n",
    "normalisasi = pd.DataFrame(normalisasi) \n",
    "normalisasi.rename(columns={0:'rank', 1:'level'}, inplace=True) \n",
    "\n",
    "normalisasi.head(5)"
   ]
  },
  {
   "cell_type": "markdown",
   "id": "809a98a2",
   "metadata": {},
   "source": [
    "# Standarisasi"
   ]
  },
  {
   "cell_type": "code",
   "execution_count": 56,
   "id": "537dacd1",
   "metadata": {},
   "outputs": [
    {
     "name": "stdout",
     "output_type": "stream",
     "text": [
      "<class 'pandas.core.frame.DataFrame'>\n",
      "RangeIndex: 21579 entries, 0 to 21578\n",
      "Data columns (total 12 columns):\n",
      " #   Column      Non-Null Count  Dtype  \n",
      "---  ------      --------------  -----  \n",
      " 0   rank        21579 non-null  float64\n",
      " 1   dead        21579 non-null  object \n",
      " 2   online      21579 non-null  object \n",
      " 3   name        21579 non-null  object \n",
      " 4   level       21579 non-null  float64\n",
      " 5   class       21579 non-null  object \n",
      " 6   id          21579 non-null  object \n",
      " 7   experience  21579 non-null  float64\n",
      " 8   account     21579 non-null  object \n",
      " 9   challenges  21579 non-null  float64\n",
      " 10  twitch      21579 non-null  object \n",
      " 11  ladder      21579 non-null  object \n",
      "dtypes: float64(4), object(8)\n",
      "memory usage: 2.0+ MB\n"
     ]
    }
   ],
   "source": [
    "df.info()"
   ]
  },
  {
   "cell_type": "code",
   "execution_count": 60,
   "id": "d5ea4d10",
   "metadata": {},
   "outputs": [
    {
     "name": "stdout",
     "output_type": "stream",
     "text": [
      "Dataset Sebelum di Scalling : \n",
      "   rank  level    experience  challenges\n",
      "0   1.0  100.0  4.250334e+09        40.0\n",
      "1   1.0  100.0  4.250334e+09        22.0\n",
      "2   1.0  100.0  4.250334e+09        35.0\n",
      "3   1.0  100.0  4.250334e+09        26.0\n",
      "4   2.0  100.0  4.250334e+09        22.0\n",
      "5   2.0  100.0  4.250334e+09        37.0\n",
      "Nilai standar deviasi:\n",
      "rank          4.990704e+02\n",
      "level         3.085393e+00\n",
      "experience    6.322025e+08\n",
      "challenges    4.691181e+00\n",
      "dtype: float64\n",
      "\n",
      "Dataset Setelah di Scalling : \n",
      "[[-2.53087097  2.08795609  2.33339732  2.15925322]\n",
      " [-2.53087097  2.08795609  2.33339732 -1.67773358]\n",
      " [-2.53087097  2.08795609  2.33339732  1.09342355]\n",
      " [-2.53087097  2.08795609  2.33339732 -0.82506985]\n",
      " [-2.52886725  2.08795609  2.33339732 -1.67773358]\n",
      " [-2.52886725  2.08795609  2.33339732  1.51975542]]\n",
      "Nilai standar deviasi: 0.9999999999999999\n"
     ]
    }
   ],
   "source": [
    "# duplicate dataset\n",
    "standarirasi = df.copy()\n",
    "pembanding = df.copy()\n",
    "\n",
    "# remove attribute type object\n",
    "standarirasi.drop('dead', axis=1, inplace=True)\n",
    "standarirasi.drop('name', axis=1, inplace=True)\n",
    "standarirasi.drop('online', axis=1, inplace=True)\n",
    "standarirasi.drop('class', axis=1, inplace=True)\n",
    "standarirasi.drop('id', axis=1, inplace=True)\n",
    "standarirasi.drop('account', axis=1, inplace=True)\n",
    "standarirasi.drop('twitch', axis=1, inplace=True)\n",
    "standarirasi.drop('ladder', axis=1, inplace=True)\n",
    "\n",
    "#standarisasi\n",
    "standart = StandardScaler()\n",
    "scaled_data = standart.fit_transform(standarirasi)\n",
    "\n",
    "#menghapus atribut bertipe object dataset pembanding\n",
    "pembanding.drop('dead', axis=1, inplace=True)\n",
    "pembanding.drop('name', axis=1, inplace=True)\n",
    "pembanding.drop('online', axis=1, inplace=True)\n",
    "pembanding.drop('class', axis=1, inplace=True)\n",
    "pembanding.drop('id', axis=1, inplace=True)\n",
    "pembanding.drop('account', axis=1, inplace=True)\n",
    "pembanding.drop('twitch', axis=1, inplace=True)\n",
    "pembanding.drop('ladder', axis=1, inplace=True)\n",
    "\n",
    "# SEBELUM\n",
    "print('Dataset Sebelum di Scalling : ',  \n",
    "      pembanding.head(6),\n",
    "      f'Nilai standar deviasi:\\n{np.std(pembanding)}',\n",
    "      sep='\\n', end='\\n\\n')\n",
    "\n",
    "# SESUDAH\n",
    "print('Dataset Setelah di Scalling : ',  \n",
    "      scaled_data[:6],\n",
    "      f'Nilai standar deviasi: {np.std(scaled_data)}',\n",
    "      sep='\\n')"
   ]
  },
  {
   "cell_type": "markdown",
   "id": "9e6e8fca",
   "metadata": {},
   "source": [
    "# Encoding"
   ]
  },
  {
   "cell_type": "code",
   "execution_count": 76,
   "id": "f3e05c87",
   "metadata": {},
   "outputs": [],
   "source": [
    "df_ordinal = df.copy()\n",
    "df_one_hot = df.copy()"
   ]
  },
  {
   "cell_type": "code",
   "execution_count": 77,
   "id": "1f29c0e8",
   "metadata": {},
   "outputs": [
    {
     "data": {
      "text/plain": [
       "array(['TheTzn', 'RaizQT', 'GucciPradas', ..., 'nv314961', 'TheOutlaw',\n",
       "       'Boudica'], dtype=object)"
      ]
     },
     "execution_count": 77,
     "metadata": {},
     "output_type": "execute_result"
    }
   ],
   "source": [
    "# cek isi dari atribut account \n",
    "df['account'].unique()"
   ]
  },
  {
   "cell_type": "markdown",
   "id": "384b4c8b",
   "metadata": {},
   "source": [
    "## Ordinal"
   ]
  },
  {
   "cell_type": "code",
   "execution_count": 78,
   "id": "90ac1203",
   "metadata": {},
   "outputs": [
    {
     "data": {
      "text/html": [
       "<div>\n",
       "<style scoped>\n",
       "    .dataframe tbody tr th:only-of-type {\n",
       "        vertical-align: middle;\n",
       "    }\n",
       "\n",
       "    .dataframe tbody tr th {\n",
       "        vertical-align: top;\n",
       "    }\n",
       "\n",
       "    .dataframe thead th {\n",
       "        text-align: right;\n",
       "    }\n",
       "</style>\n",
       "<table border=\"1\" class=\"dataframe\">\n",
       "  <thead>\n",
       "    <tr style=\"text-align: right;\">\n",
       "      <th></th>\n",
       "      <th>rank</th>\n",
       "      <th>dead</th>\n",
       "      <th>online</th>\n",
       "      <th>name</th>\n",
       "      <th>level</th>\n",
       "      <th>class</th>\n",
       "      <th>id</th>\n",
       "      <th>experience</th>\n",
       "      <th>account</th>\n",
       "      <th>challenges</th>\n",
       "      <th>twitch</th>\n",
       "      <th>ladder</th>\n",
       "    </tr>\n",
       "  </thead>\n",
       "  <tbody>\n",
       "    <tr>\n",
       "      <th>0</th>\n",
       "      <td>1.0</td>\n",
       "      <td>False</td>\n",
       "      <td>False</td>\n",
       "      <td>Tzn_NecroIsFineNow</td>\n",
       "      <td>100.0</td>\n",
       "      <td>Necromancer</td>\n",
       "      <td>3dcddd59f5088893f734f39686350990dae168cc4f4b00...</td>\n",
       "      <td>4.250334e+09</td>\n",
       "      <td>4032</td>\n",
       "      <td>40.0</td>\n",
       "      <td>thetzn</td>\n",
       "      <td>Harbinger</td>\n",
       "    </tr>\n",
       "    <tr>\n",
       "      <th>1</th>\n",
       "      <td>1.0</td>\n",
       "      <td>False</td>\n",
       "      <td>False</td>\n",
       "      <td>RaizNeverFirstQT</td>\n",
       "      <td>100.0</td>\n",
       "      <td>Necromancer</td>\n",
       "      <td>8f3216db5ac9106c287a834731aafc83c387138f28fc45...</td>\n",
       "      <td>4.250334e+09</td>\n",
       "      <td>3285</td>\n",
       "      <td>22.0</td>\n",
       "      <td>raizqt</td>\n",
       "      <td>SSF Harbinger HC</td>\n",
       "    </tr>\n",
       "    <tr>\n",
       "      <th>2</th>\n",
       "      <td>1.0</td>\n",
       "      <td>False</td>\n",
       "      <td>False</td>\n",
       "      <td>GucciStreamerAdvantage</td>\n",
       "      <td>100.0</td>\n",
       "      <td>Necromancer</td>\n",
       "      <td>c6ec2dae3855c551e0597c06ef2da06fbb5512487ded7f...</td>\n",
       "      <td>4.250334e+09</td>\n",
       "      <td>1612</td>\n",
       "      <td>35.0</td>\n",
       "      <td>guccipradas</td>\n",
       "      <td>Hardcore Harbinger</td>\n",
       "    </tr>\n",
       "    <tr>\n",
       "      <th>3</th>\n",
       "      <td>1.0</td>\n",
       "      <td>False</td>\n",
       "      <td>False</td>\n",
       "      <td>ChiroxPrime</td>\n",
       "      <td>100.0</td>\n",
       "      <td>Slayer</td>\n",
       "      <td>c861372da792be0b22c45bf437ccd58437c52e9455e0bf...</td>\n",
       "      <td>4.250334e+09</td>\n",
       "      <td>700</td>\n",
       "      <td>26.0</td>\n",
       "      <td>thespunkylobster</td>\n",
       "      <td>SSF Harbinger</td>\n",
       "    </tr>\n",
       "    <tr>\n",
       "      <th>4</th>\n",
       "      <td>2.0</td>\n",
       "      <td>False</td>\n",
       "      <td>False</td>\n",
       "      <td>Cool_NecroIsFineNow</td>\n",
       "      <td>100.0</td>\n",
       "      <td>Deadeye</td>\n",
       "      <td>24ae924ceed7989ef3d3d6772612832bb467a6094352c7...</td>\n",
       "      <td>4.250334e+09</td>\n",
       "      <td>5121</td>\n",
       "      <td>22.0</td>\n",
       "      <td>thespunkylobster</td>\n",
       "      <td>Harbinger</td>\n",
       "    </tr>\n",
       "  </tbody>\n",
       "</table>\n",
       "</div>"
      ],
      "text/plain": [
       "   rank   dead online                    name  level        class  \\\n",
       "0   1.0  False  False      Tzn_NecroIsFineNow  100.0  Necromancer   \n",
       "1   1.0  False  False        RaizNeverFirstQT  100.0  Necromancer   \n",
       "2   1.0  False  False  GucciStreamerAdvantage  100.0  Necromancer   \n",
       "3   1.0  False  False             ChiroxPrime  100.0       Slayer   \n",
       "4   2.0  False  False     Cool_NecroIsFineNow  100.0      Deadeye   \n",
       "\n",
       "                                                  id    experience  account  \\\n",
       "0  3dcddd59f5088893f734f39686350990dae168cc4f4b00...  4.250334e+09     4032   \n",
       "1  8f3216db5ac9106c287a834731aafc83c387138f28fc45...  4.250334e+09     3285   \n",
       "2  c6ec2dae3855c551e0597c06ef2da06fbb5512487ded7f...  4.250334e+09     1612   \n",
       "3  c861372da792be0b22c45bf437ccd58437c52e9455e0bf...  4.250334e+09      700   \n",
       "4  24ae924ceed7989ef3d3d6772612832bb467a6094352c7...  4.250334e+09     5121   \n",
       "\n",
       "   challenges            twitch              ladder  \n",
       "0        40.0            thetzn           Harbinger  \n",
       "1        22.0            raizqt    SSF Harbinger HC  \n",
       "2        35.0       guccipradas  Hardcore Harbinger  \n",
       "3        26.0  thespunkylobster       SSF Harbinger  \n",
       "4        22.0  thespunkylobster           Harbinger  "
      ]
     },
     "execution_count": 78,
     "metadata": {},
     "output_type": "execute_result"
    }
   ],
   "source": [
    "ordinal = OrdinalEncoder()\n",
    "\n",
    "df_ordinal['account'] = ordinal.fit_transform(df_ordinal[['account']]).astype('int64')\n",
    "\n",
    "df_ordinal.head(5)"
   ]
  },
  {
   "cell_type": "code",
   "execution_count": 79,
   "id": "4a0b9be3",
   "metadata": {},
   "outputs": [
    {
     "data": {
      "text/plain": [
       "array([4032, 3285, 1612, ..., 6587, 4020,  553], dtype=int64)"
      ]
     },
     "execution_count": 79,
     "metadata": {},
     "output_type": "execute_result"
    }
   ],
   "source": [
    "df_ordinal['account'].unique()"
   ]
  },
  {
   "cell_type": "markdown",
   "id": "eece5841",
   "metadata": {},
   "source": [
    "## One Hot"
   ]
  },
  {
   "cell_type": "code",
   "execution_count": 80,
   "id": "086a35f3",
   "metadata": {},
   "outputs": [
    {
     "data": {
      "text/html": [
       "<div>\n",
       "<style scoped>\n",
       "    .dataframe tbody tr th:only-of-type {\n",
       "        vertical-align: middle;\n",
       "    }\n",
       "\n",
       "    .dataframe tbody tr th {\n",
       "        vertical-align: top;\n",
       "    }\n",
       "\n",
       "    .dataframe thead th {\n",
       "        text-align: right;\n",
       "    }\n",
       "</style>\n",
       "<table border=\"1\" class=\"dataframe\">\n",
       "  <thead>\n",
       "    <tr style=\"text-align: right;\">\n",
       "      <th></th>\n",
       "      <th>rank</th>\n",
       "      <th>dead</th>\n",
       "      <th>online</th>\n",
       "      <th>name</th>\n",
       "      <th>level</th>\n",
       "      <th>class</th>\n",
       "      <th>id</th>\n",
       "      <th>experience</th>\n",
       "      <th>challenges</th>\n",
       "      <th>twitch</th>\n",
       "      <th>...</th>\n",
       "      <th>account_Ðaniel</th>\n",
       "      <th>account_Покусатор</th>\n",
       "      <th>account_Соловёй123</th>\n",
       "      <th>account_Хмурый74</th>\n",
       "      <th>account_คิวจ้า</th>\n",
       "      <th>account_九曜皇衣</th>\n",
       "      <th>account_权志龙</th>\n",
       "      <th>account_流亡暗道</th>\n",
       "      <th>account_紅塵呦</th>\n",
       "      <th>account_김태연</th>\n",
       "    </tr>\n",
       "  </thead>\n",
       "  <tbody>\n",
       "    <tr>\n",
       "      <th>0</th>\n",
       "      <td>1.0</td>\n",
       "      <td>False</td>\n",
       "      <td>False</td>\n",
       "      <td>Tzn_NecroIsFineNow</td>\n",
       "      <td>100.0</td>\n",
       "      <td>Necromancer</td>\n",
       "      <td>3dcddd59f5088893f734f39686350990dae168cc4f4b00...</td>\n",
       "      <td>4.250334e+09</td>\n",
       "      <td>40.0</td>\n",
       "      <td>thetzn</td>\n",
       "      <td>...</td>\n",
       "      <td>0</td>\n",
       "      <td>0</td>\n",
       "      <td>0</td>\n",
       "      <td>0</td>\n",
       "      <td>0</td>\n",
       "      <td>0</td>\n",
       "      <td>0</td>\n",
       "      <td>0</td>\n",
       "      <td>0</td>\n",
       "      <td>0</td>\n",
       "    </tr>\n",
       "    <tr>\n",
       "      <th>1</th>\n",
       "      <td>1.0</td>\n",
       "      <td>False</td>\n",
       "      <td>False</td>\n",
       "      <td>RaizNeverFirstQT</td>\n",
       "      <td>100.0</td>\n",
       "      <td>Necromancer</td>\n",
       "      <td>8f3216db5ac9106c287a834731aafc83c387138f28fc45...</td>\n",
       "      <td>4.250334e+09</td>\n",
       "      <td>22.0</td>\n",
       "      <td>raizqt</td>\n",
       "      <td>...</td>\n",
       "      <td>0</td>\n",
       "      <td>0</td>\n",
       "      <td>0</td>\n",
       "      <td>0</td>\n",
       "      <td>0</td>\n",
       "      <td>0</td>\n",
       "      <td>0</td>\n",
       "      <td>0</td>\n",
       "      <td>0</td>\n",
       "      <td>0</td>\n",
       "    </tr>\n",
       "    <tr>\n",
       "      <th>2</th>\n",
       "      <td>1.0</td>\n",
       "      <td>False</td>\n",
       "      <td>False</td>\n",
       "      <td>GucciStreamerAdvantage</td>\n",
       "      <td>100.0</td>\n",
       "      <td>Necromancer</td>\n",
       "      <td>c6ec2dae3855c551e0597c06ef2da06fbb5512487ded7f...</td>\n",
       "      <td>4.250334e+09</td>\n",
       "      <td>35.0</td>\n",
       "      <td>guccipradas</td>\n",
       "      <td>...</td>\n",
       "      <td>0</td>\n",
       "      <td>0</td>\n",
       "      <td>0</td>\n",
       "      <td>0</td>\n",
       "      <td>0</td>\n",
       "      <td>0</td>\n",
       "      <td>0</td>\n",
       "      <td>0</td>\n",
       "      <td>0</td>\n",
       "      <td>0</td>\n",
       "    </tr>\n",
       "    <tr>\n",
       "      <th>3</th>\n",
       "      <td>1.0</td>\n",
       "      <td>False</td>\n",
       "      <td>False</td>\n",
       "      <td>ChiroxPrime</td>\n",
       "      <td>100.0</td>\n",
       "      <td>Slayer</td>\n",
       "      <td>c861372da792be0b22c45bf437ccd58437c52e9455e0bf...</td>\n",
       "      <td>4.250334e+09</td>\n",
       "      <td>26.0</td>\n",
       "      <td>thespunkylobster</td>\n",
       "      <td>...</td>\n",
       "      <td>0</td>\n",
       "      <td>0</td>\n",
       "      <td>0</td>\n",
       "      <td>0</td>\n",
       "      <td>0</td>\n",
       "      <td>0</td>\n",
       "      <td>0</td>\n",
       "      <td>0</td>\n",
       "      <td>0</td>\n",
       "      <td>0</td>\n",
       "    </tr>\n",
       "    <tr>\n",
       "      <th>4</th>\n",
       "      <td>2.0</td>\n",
       "      <td>False</td>\n",
       "      <td>False</td>\n",
       "      <td>Cool_NecroIsFineNow</td>\n",
       "      <td>100.0</td>\n",
       "      <td>Deadeye</td>\n",
       "      <td>24ae924ceed7989ef3d3d6772612832bb467a6094352c7...</td>\n",
       "      <td>4.250334e+09</td>\n",
       "      <td>22.0</td>\n",
       "      <td>thespunkylobster</td>\n",
       "      <td>...</td>\n",
       "      <td>0</td>\n",
       "      <td>0</td>\n",
       "      <td>0</td>\n",
       "      <td>0</td>\n",
       "      <td>0</td>\n",
       "      <td>0</td>\n",
       "      <td>0</td>\n",
       "      <td>0</td>\n",
       "      <td>0</td>\n",
       "      <td>0</td>\n",
       "    </tr>\n",
       "  </tbody>\n",
       "</table>\n",
       "<p>5 rows × 7730 columns</p>\n",
       "</div>"
      ],
      "text/plain": [
       "   rank   dead online                    name  level        class  \\\n",
       "0   1.0  False  False      Tzn_NecroIsFineNow  100.0  Necromancer   \n",
       "1   1.0  False  False        RaizNeverFirstQT  100.0  Necromancer   \n",
       "2   1.0  False  False  GucciStreamerAdvantage  100.0  Necromancer   \n",
       "3   1.0  False  False             ChiroxPrime  100.0       Slayer   \n",
       "4   2.0  False  False     Cool_NecroIsFineNow  100.0      Deadeye   \n",
       "\n",
       "                                                  id    experience  \\\n",
       "0  3dcddd59f5088893f734f39686350990dae168cc4f4b00...  4.250334e+09   \n",
       "1  8f3216db5ac9106c287a834731aafc83c387138f28fc45...  4.250334e+09   \n",
       "2  c6ec2dae3855c551e0597c06ef2da06fbb5512487ded7f...  4.250334e+09   \n",
       "3  c861372da792be0b22c45bf437ccd58437c52e9455e0bf...  4.250334e+09   \n",
       "4  24ae924ceed7989ef3d3d6772612832bb467a6094352c7...  4.250334e+09   \n",
       "\n",
       "   challenges            twitch  ... account_Ðaniel  account_Покусатор  \\\n",
       "0        40.0            thetzn  ...              0                  0   \n",
       "1        22.0            raizqt  ...              0                  0   \n",
       "2        35.0       guccipradas  ...              0                  0   \n",
       "3        26.0  thespunkylobster  ...              0                  0   \n",
       "4        22.0  thespunkylobster  ...              0                  0   \n",
       "\n",
       "   account_Соловёй123  account_Хмурый74  account_คิวจ้า  account_九曜皇衣  \\\n",
       "0                   0                 0               0             0   \n",
       "1                   0                 0               0             0   \n",
       "2                   0                 0               0             0   \n",
       "3                   0                 0               0             0   \n",
       "4                   0                 0               0             0   \n",
       "\n",
       "   account_权志龙  account_流亡暗道  account_紅塵呦  account_김태연  \n",
       "0            0             0            0            0  \n",
       "1            0             0            0            0  \n",
       "2            0             0            0            0  \n",
       "3            0             0            0            0  \n",
       "4            0             0            0            0  \n",
       "\n",
       "[5 rows x 7730 columns]"
      ]
     },
     "execution_count": 80,
     "metadata": {},
     "output_type": "execute_result"
    }
   ],
   "source": [
    "temp_df = pd.get_dummies(df_one_hot[['account']])\n",
    "\n",
    "temp_df = pd.DataFrame(temp_df) \n",
    "\n",
    "df_one_hot.drop('account', axis=1, inplace=True) #hapus atribut state\n",
    "\n",
    "df_one_hot = df_one_hot.join(temp_df) \n",
    "df_one_hot.head(5)"
   ]
  },
  {
   "cell_type": "code",
   "execution_count": null,
   "id": "3b4e0fab",
   "metadata": {},
   "outputs": [],
   "source": []
  },
  {
   "cell_type": "code",
   "execution_count": null,
   "id": "14d8a5f3",
   "metadata": {},
   "outputs": [],
   "source": []
  }
 ],
 "metadata": {
  "kernelspec": {
   "display_name": "Python 3 (ipykernel)",
   "language": "python",
   "name": "python3"
  },
  "language_info": {
   "codemirror_mode": {
    "name": "ipython",
    "version": 3
   },
   "file_extension": ".py",
   "mimetype": "text/x-python",
   "name": "python",
   "nbconvert_exporter": "python",
   "pygments_lexer": "ipython3",
   "version": "3.10.7"
  }
 },
 "nbformat": 4,
 "nbformat_minor": 5
}
