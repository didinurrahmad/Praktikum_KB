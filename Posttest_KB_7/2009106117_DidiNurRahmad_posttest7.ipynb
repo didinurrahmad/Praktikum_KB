{
 "cells": [
  {
   "cell_type": "markdown",
   "id": "1c183b2c-48cb-455b-94a8-4202bb1de207",
   "metadata": {},
   "source": [
    "# IMPORT LIBRARY"
   ]
  },
  {
   "cell_type": "code",
   "execution_count": 1,
   "id": "5acf3ed3-5323-48f9-8156-c90d84b30c23",
   "metadata": {},
   "outputs": [],
   "source": [
    "import tensorflow as tf\n",
    "import numpy as np"
   ]
  },
  {
   "cell_type": "markdown",
   "id": "532e0da3-5148-414b-a4f8-e73d2edc740f",
   "metadata": {},
   "source": [
    "## tensor shape(5,5) dengan nilai random disimpan dalam variable random_tensor"
   ]
  },
  {
   "cell_type": "code",
   "execution_count": 2,
   "id": "37b83532-2ccf-4259-acbc-a7ff5d077cdf",
   "metadata": {},
   "outputs": [
    {
     "data": {
      "text/plain": [
       "array([[-0.8113182 ,  1.4845988 ,  0.06532937, -2.4427042 ,  0.0992484 ],\n",
       "       [ 0.5912243 ,  0.59282297, -2.1229296 , -0.72289723, -0.05627038],\n",
       "       [ 0.6435448 , -0.26432407,  1.8566332 ,  0.5678417 , -0.3828359 ],\n",
       "       [-1.4853433 ,  1.2617711 , -0.02530608, -0.2646297 ,  1.5328138 ],\n",
       "       [-1.7429771 , -0.43789294, -0.56601   ,  0.32066926,  1.132831  ]],\n",
       "      dtype=float32)"
      ]
     },
     "execution_count": 2,
     "metadata": {},
     "output_type": "execute_result"
    }
   ],
   "source": [
    "rb_tensor = tf.random.normal([5,5], mean=0., stddev=1., seed=1)\n",
    "rb_tensor.numpy()"
   ]
  },
  {
   "cell_type": "markdown",
   "id": "5f74534e-31ad-45c3-9eb2-37763376702e",
   "metadata": {},
   "source": [
    "## Tensor shape(5,5) dari list, nilai bilangan prima dalam variable prime_tensor"
   ]
  },
  {
   "cell_type": "code",
   "execution_count": 3,
   "id": "89ffb34b-4315-4a4a-87ed-dcb8b3fd1218",
   "metadata": {},
   "outputs": [
    {
     "data": {
      "text/plain": [
       "array([[19., 53.,  5.,  7., 13.],\n",
       "       [11., 17.,  2., 23., 59.],\n",
       "       [31., 37., 47., 43., 97.],\n",
       "       [ 3., 29., 61.,  1., 73.],\n",
       "       [79., 83., 89., 41., 71.]], dtype=float32)"
      ]
     },
     "execution_count": 3,
     "metadata": {},
     "output_type": "execute_result"
    }
   ],
   "source": [
    "list_prima = [[19, 53, 5, 7, 13],[11, 17, 2, 23, 59],[31, 37, 47, 43, 97],[3, 29, 61, 1, 73],[79, 83, 89, 41, 71]]\n",
    "\n",
    "prm_tensor = tf.constant(list_prima, dtype=tf.float32) #create tensor use tf.constant\n",
    "prm_tensor.numpy()"
   ]
  },
  {
   "cell_type": "markdown",
   "id": "bc499330-6e2d-4559-bdc5-5d4e806df1b7",
   "metadata": {},
   "source": [
    "## Menampilkan dimensi dari kedua variable tersebut"
   ]
  },
  {
   "cell_type": "code",
   "execution_count": 4,
   "id": "8e6278bd-ffa6-4c46-93e5-2202069409c1",
   "metadata": {},
   "outputs": [
    {
     "data": {
      "text/plain": [
       "TensorShape([5, 5])"
      ]
     },
     "execution_count": 4,
     "metadata": {},
     "output_type": "execute_result"
    }
   ],
   "source": [
    "rb_tensor.shape"
   ]
  },
  {
   "cell_type": "code",
   "execution_count": 5,
   "id": "5ad68b2a-17ef-48a2-9614-3ee77b6f7d8e",
   "metadata": {},
   "outputs": [
    {
     "data": {
      "text/plain": [
       "TensorShape([5, 5])"
      ]
     },
     "execution_count": 5,
     "metadata": {},
     "output_type": "execute_result"
    }
   ],
   "source": [
    "prm_tensor.shape"
   ]
  },
  {
   "cell_type": "markdown",
   "id": "5c0c9c69-3cce-4301-ae34-8063cd456987",
   "metadata": {},
   "source": [
    "## Menampilkan hasil perhitungan aritmetika 2 variable (5 operator)"
   ]
  },
  {
   "cell_type": "code",
   "execution_count": 6,
   "id": "e43d1463-ce90-4b6c-a8a9-6e73ab851712",
   "metadata": {},
   "outputs": [
    {
     "name": "stdout",
     "output_type": "stream",
     "text": [
      "Penjumlahan : tf.Tensor(\n",
      "[[18.188683   54.4846      5.0653296   4.557296   13.099248  ]\n",
      " [11.591225   17.592823   -0.12292957 22.277103   58.94373   ]\n",
      " [31.643545   36.735676   48.856632   43.56784    96.617165  ]\n",
      " [ 1.5146567  30.26177    60.974693    0.7353703  74.532814  ]\n",
      " [77.25702    82.5621     88.43399    41.32067    72.13283   ]], shape=(5, 5), dtype=float32)\n"
     ]
    }
   ],
   "source": [
    "print(\"Penjumlahan :\",tf.add(prm_tensor,rb_tensor))"
   ]
  },
  {
   "cell_type": "code",
   "execution_count": 7,
   "id": "a3207fce-b3cc-429b-bc0d-8169cf884a3c",
   "metadata": {},
   "outputs": [
    {
     "name": "stdout",
     "output_type": "stream",
     "text": [
      "Pengurangan : tf.Tensor(\n",
      "[[19.811317  51.5154     4.9346704  9.442704  12.900752 ]\n",
      " [10.408775  16.407177   4.1229296 23.722897  59.05627  ]\n",
      " [30.356455  37.264324  45.143368  42.43216   97.382835 ]\n",
      " [ 4.4853435 27.73823   61.025307   1.2646297 71.467186 ]\n",
      " [80.74298   83.4379    89.56601   40.67933   69.86717  ]], shape=(5, 5), dtype=float32)\n"
     ]
    }
   ],
   "source": [
    "print(\"Pengurangan :\",tf.subtract(prm_tensor,rb_tensor))"
   ]
  },
  {
   "cell_type": "code",
   "execution_count": 8,
   "id": "2bea7c4a-c3f2-45b5-b4cf-2810f18c6210",
   "metadata": {},
   "outputs": [
    {
     "name": "stdout",
     "output_type": "stream",
     "text": [
      "Perkalian : tf.Tensor(\n",
      "[[ -15.415046     78.68373       0.32664686  -17.09893       1.2902292 ]\n",
      " [   6.5034676    10.077991     -4.245859    -16.626637     -3.3199525 ]\n",
      " [  19.949888     -9.77999      87.26176      24.417194    -37.135082  ]\n",
      " [  -4.45603      36.591362     -1.5436709    -0.2646297   111.89541   ]\n",
      " [-137.69519     -36.345116    -50.37489      13.14744      80.431     ]], shape=(5, 5), dtype=float32)\n"
     ]
    }
   ],
   "source": [
    "print(\"Perkalian :\",tf.multiply(prm_tensor,rb_tensor))"
   ]
  },
  {
   "cell_type": "code",
   "execution_count": 9,
   "id": "6e5d4a6e-274a-4d03-a901-cec86b10d059",
   "metadata": {},
   "outputs": [
    {
     "name": "stdout",
     "output_type": "stream",
     "text": [
      "Pembagian : tf.Tensor(\n",
      "[[-2.3418678e+01  3.5699883e+01  7.6535255e+01 -2.8656764e+00\n",
      "   1.3098448e+02]\n",
      " [ 1.8605459e+01  2.8676352e+01 -9.4209439e-01 -3.1816418e+01\n",
      "  -1.0485090e+03]\n",
      " [ 4.8170696e+01 -1.3997969e+02  2.5314640e+01  7.5725327e+01\n",
      "  -2.5337227e+02]\n",
      " [-2.0197351e+00  2.2983566e+01 -2.4104880e+03 -3.7788653e+00\n",
      "   4.7624832e+01]\n",
      " [-4.5324749e+01 -1.8954405e+02 -1.5724104e+02  1.2785759e+02\n",
      "   6.2674839e+01]], shape=(5, 5), dtype=float32)\n"
     ]
    }
   ],
   "source": [
    "print(\"Pembagian :\",tf.divide(prm_tensor,rb_tensor))"
   ]
  },
  {
   "cell_type": "code",
   "execution_count": 10,
   "id": "e38ca07b-f123-4bc7-b7e8-97b410b97f48",
   "metadata": {},
   "outputs": [
    {
     "name": "stdout",
     "output_type": "stream",
     "text": [
      "Pangkat : tf.Tensor(\n",
      "[[9.1732644e-02 3.6295920e+02 1.1108701e+00 8.6233392e-03 1.2899032e+00]\n",
      " [4.1275911e+00 5.3633776e+00 2.2958025e-01 1.0365988e-01 7.9497504e-01]\n",
      " [9.1150293e+00 3.8502288e-01 1.2719568e+03 8.4635296e+00 1.7353715e-01]\n",
      " [1.9557400e-01 7.0018288e+01 9.0119815e-01 1.0000000e+00 7.1800415e+02]\n",
      " [4.9258291e-04 1.4442728e-01 7.8818068e-02 3.2898054e+00 1.2507278e+02]], shape=(5, 5), dtype=float32)\n"
     ]
    }
   ],
   "source": [
    "print(\"Pangkat :\",tf.pow(prm_tensor,rb_tensor))"
   ]
  },
  {
   "cell_type": "markdown",
   "id": "83dcf3fb-783f-439e-ba8f-7a0b52f94f17",
   "metadata": {},
   "source": [
    "## Nilai maksimal dan minimal dari variable random_tensor "
   ]
  },
  {
   "cell_type": "code",
   "execution_count": 11,
   "id": "f778746a-413f-4baa-b460-e619c67cd8cc",
   "metadata": {},
   "outputs": [
    {
     "data": {
      "text/plain": [
       "array([1, 1, 2, 4, 4], dtype=int64)"
      ]
     },
     "execution_count": 11,
     "metadata": {},
     "output_type": "execute_result"
    }
   ],
   "source": [
    "tf.argmax(rb_tensor, axis=1). numpy() #nilai max dari kolom(axis=1)"
   ]
  },
  {
   "cell_type": "code",
   "execution_count": 12,
   "id": "4c050d87-bda6-434d-b47f-f277cb401bff",
   "metadata": {},
   "outputs": [
    {
     "data": {
      "text/plain": [
       "array([3, 2, 4, 0, 0], dtype=int64)"
      ]
     },
     "execution_count": 12,
     "metadata": {},
     "output_type": "execute_result"
    }
   ],
   "source": [
    "tf.argmin(rb_tensor, axis=1). numpy() #nilai min dari kolom(axis=1)"
   ]
  },
  {
   "cell_type": "code",
   "execution_count": 13,
   "id": "c7aacd52-87f0-486e-a5ec-eb242b16a891",
   "metadata": {},
   "outputs": [
    {
     "data": {
      "text/plain": [
       "array([2, 0, 2, 2, 3], dtype=int64)"
      ]
     },
     "execution_count": 13,
     "metadata": {},
     "output_type": "execute_result"
    }
   ],
   "source": [
    "tf.argmax(rb_tensor, axis=0). numpy() #nilai max dari baris(axis=0)"
   ]
  },
  {
   "cell_type": "code",
   "execution_count": 14,
   "id": "3cdb3cb9-52f1-476a-b791-32dc3aa3adb2",
   "metadata": {},
   "outputs": [
    {
     "data": {
      "text/plain": [
       "array([4, 4, 1, 0, 2], dtype=int64)"
      ]
     },
     "execution_count": 14,
     "metadata": {},
     "output_type": "execute_result"
    }
   ],
   "source": [
    "tf.argmin(rb_tensor, axis=0). numpy() #nilai min dari baris(axis=0)"
   ]
  },
  {
   "cell_type": "markdown",
   "id": "225a21a3-95df-4c1e-97a0-536c9489b4fe",
   "metadata": {},
   "source": [
    "## Penggabungan variable random_tensor dengan prime_tensor (concatenation)"
   ]
  },
  {
   "cell_type": "code",
   "execution_count": 15,
   "id": "5f9229d9-9f28-4565-b0f7-85a5190e0075",
   "metadata": {},
   "outputs": [
    {
     "data": {
      "text/plain": [
       "<tf.Tensor: shape=(5, 10), dtype=float32, numpy=\n",
       "array([[-8.1131822e-01,  1.4845988e+00,  6.5329373e-02, -2.4427042e+00,\n",
       "         9.9248402e-02,  1.9000000e+01,  5.3000000e+01,  5.0000000e+00,\n",
       "         7.0000000e+00,  1.3000000e+01],\n",
       "       [ 5.9122431e-01,  5.9282297e-01, -2.1229296e+00, -7.2289723e-01,\n",
       "        -5.6270380e-02,  1.1000000e+01,  1.7000000e+01,  2.0000000e+00,\n",
       "         2.3000000e+01,  5.9000000e+01],\n",
       "       [ 6.4354479e-01, -2.6432407e-01,  1.8566332e+00,  5.6784171e-01,\n",
       "        -3.8283589e-01,  3.1000000e+01,  3.7000000e+01,  4.7000000e+01,\n",
       "         4.3000000e+01,  9.7000000e+01],\n",
       "       [-1.4853433e+00,  1.2617711e+00, -2.5306080e-02, -2.6462969e-01,\n",
       "         1.5328138e+00,  3.0000000e+00,  2.9000000e+01,  6.1000000e+01,\n",
       "         1.0000000e+00,  7.3000000e+01],\n",
       "       [-1.7429771e+00, -4.3789294e-01, -5.6601000e-01,  3.2066926e-01,\n",
       "         1.1328310e+00,  7.9000000e+01,  8.3000000e+01,  8.9000000e+01,\n",
       "         4.1000000e+01,  7.1000000e+01]], dtype=float32)>"
      ]
     },
     "execution_count": 15,
     "metadata": {},
     "output_type": "execute_result"
    }
   ],
   "source": [
    "tf.concat([rb_tensor, prm_tensor], axis=1) #penggabungan kolom"
   ]
  },
  {
   "cell_type": "code",
   "execution_count": 16,
   "id": "1dfaf96a-6f86-401d-8d9a-7d04a5f216f6",
   "metadata": {},
   "outputs": [
    {
     "data": {
      "text/plain": [
       "<tf.Tensor: shape=(10, 5), dtype=float32, numpy=\n",
       "array([[-8.1131822e-01,  1.4845988e+00,  6.5329373e-02, -2.4427042e+00,\n",
       "         9.9248402e-02],\n",
       "       [ 5.9122431e-01,  5.9282297e-01, -2.1229296e+00, -7.2289723e-01,\n",
       "        -5.6270380e-02],\n",
       "       [ 6.4354479e-01, -2.6432407e-01,  1.8566332e+00,  5.6784171e-01,\n",
       "        -3.8283589e-01],\n",
       "       [-1.4853433e+00,  1.2617711e+00, -2.5306080e-02, -2.6462969e-01,\n",
       "         1.5328138e+00],\n",
       "       [-1.7429771e+00, -4.3789294e-01, -5.6601000e-01,  3.2066926e-01,\n",
       "         1.1328310e+00],\n",
       "       [ 1.9000000e+01,  5.3000000e+01,  5.0000000e+00,  7.0000000e+00,\n",
       "         1.3000000e+01],\n",
       "       [ 1.1000000e+01,  1.7000000e+01,  2.0000000e+00,  2.3000000e+01,\n",
       "         5.9000000e+01],\n",
       "       [ 3.1000000e+01,  3.7000000e+01,  4.7000000e+01,  4.3000000e+01,\n",
       "         9.7000000e+01],\n",
       "       [ 3.0000000e+00,  2.9000000e+01,  6.1000000e+01,  1.0000000e+00,\n",
       "         7.3000000e+01],\n",
       "       [ 7.9000000e+01,  8.3000000e+01,  8.9000000e+01,  4.1000000e+01,\n",
       "         7.1000000e+01]], dtype=float32)>"
      ]
     },
     "execution_count": 16,
     "metadata": {},
     "output_type": "execute_result"
    }
   ],
   "source": [
    "tf.concat([rb_tensor, prm_tensor], axis=0) #penggabungan baris"
   ]
  },
  {
   "cell_type": "markdown",
   "id": "83035cf4-a585-455e-b6e4-a628bf29ce6f",
   "metadata": {},
   "source": [
    "## Hasil sorting kedua variable di atas. (descending)"
   ]
  },
  {
   "cell_type": "code",
   "execution_count": 17,
   "id": "00c16a87-1d0c-4261-b5aa-f661fd827897",
   "metadata": {},
   "outputs": [
    {
     "data": {
      "text/plain": [
       "array([[ 1.4845988 ,  0.0992484 ,  0.06532937, -0.8113182 , -2.4427042 ],\n",
       "       [ 0.59282297,  0.5912243 , -0.05627038, -0.72289723, -2.1229296 ],\n",
       "       [ 1.8566332 ,  0.6435448 ,  0.5678417 , -0.26432407, -0.3828359 ],\n",
       "       [ 1.5328138 ,  1.2617711 , -0.02530608, -0.2646297 , -1.4853433 ],\n",
       "       [ 1.132831  ,  0.32066926, -0.43789294, -0.56601   , -1.7429771 ]],\n",
       "      dtype=float32)"
      ]
     },
     "execution_count": 17,
     "metadata": {},
     "output_type": "execute_result"
    }
   ],
   "source": [
    "sort_rb_tensor1 = tf.sort(rb_tensor, direction=\"DESCENDING\") \n",
    "sort_rb_tensor1.numpy()"
   ]
  },
  {
   "cell_type": "code",
   "execution_count": 18,
   "id": "34c76bfb-1f1e-42b5-8fdd-b37726abf93c",
   "metadata": {},
   "outputs": [
    {
     "data": {
      "text/plain": [
       "array([[53., 19., 13.,  7.,  5.],\n",
       "       [59., 23., 17., 11.,  2.],\n",
       "       [97., 47., 43., 37., 31.],\n",
       "       [73., 61., 29.,  3.,  1.],\n",
       "       [89., 83., 79., 71., 41.]], dtype=float32)"
      ]
     },
     "execution_count": 18,
     "metadata": {},
     "output_type": "execute_result"
    }
   ],
   "source": [
    "sort_prm_tensor1 = tf.sort(prm_tensor, direction=\"DESCENDING\")\n",
    "sort_prm_tensor1.numpy()"
   ]
  },
  {
   "cell_type": "code",
   "execution_count": 19,
   "id": "aec84e9d-9634-4da7-b7b6-1da03a2a4947",
   "metadata": {},
   "outputs": [
    {
     "data": {
      "text/plain": [
       "array([[1, 4, 2, 0, 3],\n",
       "       [1, 0, 4, 3, 2],\n",
       "       [2, 0, 3, 1, 4],\n",
       "       [4, 1, 2, 3, 0],\n",
       "       [4, 3, 1, 2, 0]])"
      ]
     },
     "execution_count": 19,
     "metadata": {},
     "output_type": "execute_result"
    }
   ],
   "source": [
    "sort_rb_tensor2 = tf.argsort(rb_tensor, direction=\"DESCENDING\") \n",
    "sort_rb_tensor2.numpy()"
   ]
  },
  {
   "cell_type": "code",
   "execution_count": 20,
   "id": "93145af5-ccb9-405b-9235-014d736217f7",
   "metadata": {},
   "outputs": [
    {
     "data": {
      "text/plain": [
       "array([[1, 0, 4, 3, 2],\n",
       "       [4, 3, 1, 0, 2],\n",
       "       [4, 2, 3, 1, 0],\n",
       "       [4, 2, 1, 0, 3],\n",
       "       [2, 1, 0, 4, 3]])"
      ]
     },
     "execution_count": 20,
     "metadata": {},
     "output_type": "execute_result"
    }
   ],
   "source": [
    "sort_prm_tensor2 = tf.argsort(prm_tensor, direction=\"DESCENDING\")\n",
    "sort_prm_tensor2.numpy()"
   ]
  }
 ],
 "metadata": {
  "kernelspec": {
   "display_name": "Python 3 (ipykernel)",
   "language": "python",
   "name": "python3"
  },
  "language_info": {
   "codemirror_mode": {
    "name": "ipython",
    "version": 3
   },
   "file_extension": ".py",
   "mimetype": "text/x-python",
   "name": "python",
   "nbconvert_exporter": "python",
   "pygments_lexer": "ipython3",
   "version": "3.10.7"
  }
 },
 "nbformat": 4,
 "nbformat_minor": 5
}
