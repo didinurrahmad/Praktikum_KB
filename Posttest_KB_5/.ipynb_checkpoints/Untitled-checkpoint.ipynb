{
 "cells": [
  {
   "cell_type": "code",
   "execution_count": 32,
   "id": "1e7d3b18",
   "metadata": {},
   "outputs": [],
   "source": [
    "import pandas as pd\n",
    "import numpy as np\n",
    "import matplotlib.pyplot as plt\n",
    "import seaborn as sns\n",
    "\n",
    "from sklearn.model_selection import train_test_split\n",
    "from sklearn.neighbors import KNeighborsClassifier\n",
    "from sklearn.tree import DecisionTreeClassifier\n",
    "from sklearn.naive_bayes import GaussianNB\n",
    "from sklearn.svm import SVC\n",
    "from sklearn.linear_model import LinearRegression\n",
    "from sklearn import datasets, linear_model\n",
    "from sklearn.metrics import accuracy_score\n",
    "from sklearn.impute import SimpleImputer\n",
    "\n",
    "import warnings\n",
    "warnings.filterwarnings('ignore')"
   ]
  },
  {
   "cell_type": "markdown",
   "id": "a2416e0a",
   "metadata": {},
   "source": [
    "# Mengambil dataset poe_stats.csv dan mengambil beberapa informasi"
   ]
  },
  {
   "cell_type": "code",
   "execution_count": 33,
   "id": "a9d604ca",
   "metadata": {},
   "outputs": [
    {
     "data": {
      "text/html": [
       "<div>\n",
       "<style scoped>\n",
       "    .dataframe tbody tr th:only-of-type {\n",
       "        vertical-align: middle;\n",
       "    }\n",
       "\n",
       "    .dataframe tbody tr th {\n",
       "        vertical-align: top;\n",
       "    }\n",
       "\n",
       "    .dataframe thead th {\n",
       "        text-align: right;\n",
       "    }\n",
       "</style>\n",
       "<table border=\"1\" class=\"dataframe\">\n",
       "  <thead>\n",
       "    <tr style=\"text-align: right;\">\n",
       "      <th></th>\n",
       "      <th>rank</th>\n",
       "      <th>dead</th>\n",
       "      <th>online</th>\n",
       "      <th>name</th>\n",
       "      <th>level</th>\n",
       "      <th>class</th>\n",
       "      <th>id</th>\n",
       "      <th>experience</th>\n",
       "      <th>account</th>\n",
       "      <th>challenges</th>\n",
       "      <th>twitch</th>\n",
       "      <th>ladder</th>\n",
       "    </tr>\n",
       "  </thead>\n",
       "  <tbody>\n",
       "    <tr>\n",
       "      <th>0</th>\n",
       "      <td>1.0</td>\n",
       "      <td>False</td>\n",
       "      <td>False</td>\n",
       "      <td>Tzn_NecroIsFineNow</td>\n",
       "      <td>100.0</td>\n",
       "      <td>Necromancer</td>\n",
       "      <td>3dcddd59f5088893f734f39686350990dae168cc4f4b00...</td>\n",
       "      <td>4.250334e+09</td>\n",
       "      <td>TheTzn</td>\n",
       "      <td>40.0</td>\n",
       "      <td>thetzn</td>\n",
       "      <td>Harbinger</td>\n",
       "    </tr>\n",
       "    <tr>\n",
       "      <th>1</th>\n",
       "      <td>1.0</td>\n",
       "      <td>False</td>\n",
       "      <td>False</td>\n",
       "      <td>RaizNeverFirstQT</td>\n",
       "      <td>100.0</td>\n",
       "      <td>Necromancer</td>\n",
       "      <td>8f3216db5ac9106c287a834731aafc83c387138f28fc45...</td>\n",
       "      <td>4.250334e+09</td>\n",
       "      <td>RaizQT</td>\n",
       "      <td>22.0</td>\n",
       "      <td>raizqt</td>\n",
       "      <td>SSF Harbinger HC</td>\n",
       "    </tr>\n",
       "    <tr>\n",
       "      <th>2</th>\n",
       "      <td>1.0</td>\n",
       "      <td>False</td>\n",
       "      <td>False</td>\n",
       "      <td>GucciStreamerAdvantage</td>\n",
       "      <td>100.0</td>\n",
       "      <td>Necromancer</td>\n",
       "      <td>c6ec2dae3855c551e0597c06ef2da06fbb5512487ded7f...</td>\n",
       "      <td>4.250334e+09</td>\n",
       "      <td>GucciPradas</td>\n",
       "      <td>35.0</td>\n",
       "      <td>guccipradas</td>\n",
       "      <td>Hardcore Harbinger</td>\n",
       "    </tr>\n",
       "    <tr>\n",
       "      <th>3</th>\n",
       "      <td>1.0</td>\n",
       "      <td>False</td>\n",
       "      <td>False</td>\n",
       "      <td>ChiroxPrime</td>\n",
       "      <td>100.0</td>\n",
       "      <td>Slayer</td>\n",
       "      <td>c861372da792be0b22c45bf437ccd58437c52e9455e0bf...</td>\n",
       "      <td>4.250334e+09</td>\n",
       "      <td>Chiroxun</td>\n",
       "      <td>26.0</td>\n",
       "      <td>NaN</td>\n",
       "      <td>SSF Harbinger</td>\n",
       "    </tr>\n",
       "    <tr>\n",
       "      <th>4</th>\n",
       "      <td>2.0</td>\n",
       "      <td>False</td>\n",
       "      <td>False</td>\n",
       "      <td>Cool_NecroIsFineNow</td>\n",
       "      <td>100.0</td>\n",
       "      <td>Deadeye</td>\n",
       "      <td>24ae924ceed7989ef3d3d6772612832bb467a6094352c7...</td>\n",
       "      <td>4.250334e+09</td>\n",
       "      <td>cooltail</td>\n",
       "      <td>22.0</td>\n",
       "      <td>NaN</td>\n",
       "      <td>Harbinger</td>\n",
       "    </tr>\n",
       "  </tbody>\n",
       "</table>\n",
       "</div>"
      ],
      "text/plain": [
       "   rank   dead online                    name  level        class  \\\n",
       "0   1.0  False  False      Tzn_NecroIsFineNow  100.0  Necromancer   \n",
       "1   1.0  False  False        RaizNeverFirstQT  100.0  Necromancer   \n",
       "2   1.0  False  False  GucciStreamerAdvantage  100.0  Necromancer   \n",
       "3   1.0  False  False             ChiroxPrime  100.0       Slayer   \n",
       "4   2.0  False  False     Cool_NecroIsFineNow  100.0      Deadeye   \n",
       "\n",
       "                                                  id    experience  \\\n",
       "0  3dcddd59f5088893f734f39686350990dae168cc4f4b00...  4.250334e+09   \n",
       "1  8f3216db5ac9106c287a834731aafc83c387138f28fc45...  4.250334e+09   \n",
       "2  c6ec2dae3855c551e0597c06ef2da06fbb5512487ded7f...  4.250334e+09   \n",
       "3  c861372da792be0b22c45bf437ccd58437c52e9455e0bf...  4.250334e+09   \n",
       "4  24ae924ceed7989ef3d3d6772612832bb467a6094352c7...  4.250334e+09   \n",
       "\n",
       "       account  challenges       twitch              ladder  \n",
       "0       TheTzn        40.0       thetzn           Harbinger  \n",
       "1       RaizQT        22.0       raizqt    SSF Harbinger HC  \n",
       "2  GucciPradas        35.0  guccipradas  Hardcore Harbinger  \n",
       "3     Chiroxun        26.0          NaN       SSF Harbinger  \n",
       "4     cooltail        22.0          NaN           Harbinger  "
      ]
     },
     "execution_count": 33,
     "metadata": {},
     "output_type": "execute_result"
    }
   ],
   "source": [
    "df = pd.read_csv(\"poe_stats.csv\")\n",
    "df.head()"
   ]
  },
  {
   "cell_type": "markdown",
   "id": "97608838",
   "metadata": {},
   "source": [
    "# Mendeskripsikan data"
   ]
  },
  {
   "cell_type": "code",
   "execution_count": 34,
   "id": "19b7ccb3",
   "metadata": {},
   "outputs": [
    {
     "data": {
      "text/html": [
       "<div>\n",
       "<style scoped>\n",
       "    .dataframe tbody tr th:only-of-type {\n",
       "        vertical-align: middle;\n",
       "    }\n",
       "\n",
       "    .dataframe tbody tr th {\n",
       "        vertical-align: top;\n",
       "    }\n",
       "\n",
       "    .dataframe thead th {\n",
       "        text-align: right;\n",
       "    }\n",
       "</style>\n",
       "<table border=\"1\" class=\"dataframe\">\n",
       "  <thead>\n",
       "    <tr style=\"text-align: right;\">\n",
       "      <th></th>\n",
       "      <th>rank</th>\n",
       "      <th>level</th>\n",
       "      <th>experience</th>\n",
       "      <th>challenges</th>\n",
       "    </tr>\n",
       "  </thead>\n",
       "  <tbody>\n",
       "    <tr>\n",
       "      <th>count</th>\n",
       "      <td>10089.000000</td>\n",
       "      <td>10089.000000</td>\n",
       "      <td>1.008900e+04</td>\n",
       "      <td>10089.000000</td>\n",
       "    </tr>\n",
       "    <tr>\n",
       "      <th>mean</th>\n",
       "      <td>1264.082664</td>\n",
       "      <td>93.557835</td>\n",
       "      <td>2.775155e+09</td>\n",
       "      <td>29.870552</td>\n",
       "    </tr>\n",
       "    <tr>\n",
       "      <th>std</th>\n",
       "      <td>729.919373</td>\n",
       "      <td>4.512566</td>\n",
       "      <td>9.246328e+08</td>\n",
       "      <td>6.861125</td>\n",
       "    </tr>\n",
       "    <tr>\n",
       "      <th>min</th>\n",
       "      <td>1.000000</td>\n",
       "      <td>84.000000</td>\n",
       "      <td>1.229477e+09</td>\n",
       "      <td>11.000000</td>\n",
       "    </tr>\n",
       "    <tr>\n",
       "      <th>25%</th>\n",
       "      <td>632.000000</td>\n",
       "      <td>90.000000</td>\n",
       "      <td>1.970371e+09</td>\n",
       "      <td>25.000000</td>\n",
       "    </tr>\n",
       "    <tr>\n",
       "      <th>50%</th>\n",
       "      <td>1264.000000</td>\n",
       "      <td>94.000000</td>\n",
       "      <td>2.699767e+09</td>\n",
       "      <td>29.000000</td>\n",
       "    </tr>\n",
       "    <tr>\n",
       "      <th>75%</th>\n",
       "      <td>1896.000000</td>\n",
       "      <td>98.000000</td>\n",
       "      <td>3.638187e+09</td>\n",
       "      <td>36.000000</td>\n",
       "    </tr>\n",
       "    <tr>\n",
       "      <th>max</th>\n",
       "      <td>2527.000000</td>\n",
       "      <td>100.000000</td>\n",
       "      <td>4.250334e+09</td>\n",
       "      <td>40.000000</td>\n",
       "    </tr>\n",
       "  </tbody>\n",
       "</table>\n",
       "</div>"
      ],
      "text/plain": [
       "               rank         level    experience    challenges\n",
       "count  10089.000000  10089.000000  1.008900e+04  10089.000000\n",
       "mean    1264.082664     93.557835  2.775155e+09     29.870552\n",
       "std      729.919373      4.512566  9.246328e+08      6.861125\n",
       "min        1.000000     84.000000  1.229477e+09     11.000000\n",
       "25%      632.000000     90.000000  1.970371e+09     25.000000\n",
       "50%     1264.000000     94.000000  2.699767e+09     29.000000\n",
       "75%     1896.000000     98.000000  3.638187e+09     36.000000\n",
       "max     2527.000000    100.000000  4.250334e+09     40.000000"
      ]
     },
     "execution_count": 34,
     "metadata": {},
     "output_type": "execute_result"
    }
   ],
   "source": [
    "df.describe()"
   ]
  },
  {
   "cell_type": "markdown",
   "id": "59c73b1b",
   "metadata": {},
   "source": [
    "# IFORMASI DATA"
   ]
  },
  {
   "cell_type": "code",
   "execution_count": 35,
   "id": "d1e0f7bf",
   "metadata": {},
   "outputs": [
    {
     "name": "stdout",
     "output_type": "stream",
     "text": [
      "<class 'pandas.core.frame.DataFrame'>\n",
      "RangeIndex: 21579 entries, 0 to 21578\n",
      "Data columns (total 12 columns):\n",
      " #   Column      Non-Null Count  Dtype  \n",
      "---  ------      --------------  -----  \n",
      " 0   rank        10089 non-null  float64\n",
      " 1   dead        10089 non-null  object \n",
      " 2   online      10089 non-null  object \n",
      " 3   name        10089 non-null  object \n",
      " 4   level       10089 non-null  float64\n",
      " 5   class       10089 non-null  object \n",
      " 6   id          10089 non-null  object \n",
      " 7   experience  10089 non-null  float64\n",
      " 8   account     10089 non-null  object \n",
      " 9   challenges  10089 non-null  float64\n",
      " 10  twitch      3292 non-null   object \n",
      " 11  ladder      10089 non-null  object \n",
      "dtypes: float64(4), object(8)\n",
      "memory usage: 2.0+ MB\n"
     ]
    }
   ],
   "source": [
    "df.info()"
   ]
  },
  {
   "cell_type": "markdown",
   "id": "90789bb8",
   "metadata": {},
   "source": [
    "# Cleaning"
   ]
  },
  {
   "cell_type": "code",
   "execution_count": 36,
   "id": "1cc83ff9",
   "metadata": {},
   "outputs": [
    {
     "data": {
      "text/plain": [
       "rank          11490\n",
       "dead          11490\n",
       "online        11490\n",
       "name          11490\n",
       "level         11490\n",
       "class         11490\n",
       "id            11490\n",
       "experience    11490\n",
       "account       11490\n",
       "challenges    11490\n",
       "twitch        18287\n",
       "ladder        11490\n",
       "dtype: int64"
      ]
     },
     "execution_count": 36,
     "metadata": {},
     "output_type": "execute_result"
    }
   ],
   "source": [
    "df.isna().sum()"
   ]
  },
  {
   "cell_type": "code",
   "execution_count": 39,
   "id": "a4e3b8a3",
   "metadata": {},
   "outputs": [],
   "source": [
    "modus = SimpleImputer(strategy='most_frequent' )\n",
    "mean = SimpleImputer(strategy='mean')\n",
    "\n",
    "# mean\n",
    "df['rank'] = mean.fit_transform(df[['rank']])\n",
    "df['level'] = mean.fit_transform(df[['level']])\n",
    "df['experience'] = mean.fit_transform(df[['experience']])\n",
    "df['challenges'] = mean.fit_transform(df[['challenges']])\n",
    "\n",
    "# modus\n",
    "df['dead'] = modus.fit_transform(df[['dead']])\n",
    "df['online'] = modus.fit_transform(df[['online']])\n",
    "df['name'] = modus.fit_transform(df[['name']])\n",
    "df['class'] = modus.fit_transform(df[['class']])\n",
    "df['id'] = modus.fit_transform(df[['id']])\n",
    "df['account'] = modus.fit_transform(df[['account']])\n",
    "df['ladder'] = modus.fit_transform(df[['ladder']])\n",
    "df['twitch'] = modus.fit_transform(df[['twitch']])"
   ]
  },
  {
   "cell_type": "markdown",
   "id": "de59e35d",
   "metadata": {},
   "source": [
    "## Cek data setelah cleaning"
   ]
  },
  {
   "cell_type": "code",
   "execution_count": 41,
   "id": "9b4e6158",
   "metadata": {},
   "outputs": [
    {
     "data": {
      "text/plain": [
       "rank          0\n",
       "dead          0\n",
       "online        0\n",
       "name          0\n",
       "level         0\n",
       "class         0\n",
       "id            0\n",
       "experience    0\n",
       "account       0\n",
       "challenges    0\n",
       "twitch        0\n",
       "ladder        0\n",
       "dtype: int64"
      ]
     },
     "execution_count": 41,
     "metadata": {},
     "output_type": "execute_result"
    }
   ],
   "source": [
    "df.isna().sum()"
   ]
  },
  {
   "cell_type": "markdown",
   "id": "286dafb5",
   "metadata": {},
   "source": [
    "# Klasifikasi data\n",
    "\n",
    "### Split Data"
   ]
  },
  {
   "cell_type": "code",
   "execution_count": 44,
   "id": "97af4d7a",
   "metadata": {},
   "outputs": [],
   "source": [
    "x = df[['dead', 'online']]\n",
    "y = df[['account']]\n",
    "\n",
    "\n",
    "x_train, x_test, y_train, y_test = train_test_split(x, y, test_size=.2)"
   ]
  },
  {
   "cell_type": "markdown",
   "id": "86649339",
   "metadata": {},
   "source": [
    "# Naieve Bayes"
   ]
  },
  {
   "cell_type": "code",
   "execution_count": 45,
   "id": "bd7d079f",
   "metadata": {},
   "outputs": [
    {
     "data": {
      "text/html": [
       "<style>#sk-container-id-1 {color: black;background-color: white;}#sk-container-id-1 pre{padding: 0;}#sk-container-id-1 div.sk-toggleable {background-color: white;}#sk-container-id-1 label.sk-toggleable__label {cursor: pointer;display: block;width: 100%;margin-bottom: 0;padding: 0.3em;box-sizing: border-box;text-align: center;}#sk-container-id-1 label.sk-toggleable__label-arrow:before {content: \"▸\";float: left;margin-right: 0.25em;color: #696969;}#sk-container-id-1 label.sk-toggleable__label-arrow:hover:before {color: black;}#sk-container-id-1 div.sk-estimator:hover label.sk-toggleable__label-arrow:before {color: black;}#sk-container-id-1 div.sk-toggleable__content {max-height: 0;max-width: 0;overflow: hidden;text-align: left;background-color: #f0f8ff;}#sk-container-id-1 div.sk-toggleable__content pre {margin: 0.2em;color: black;border-radius: 0.25em;background-color: #f0f8ff;}#sk-container-id-1 input.sk-toggleable__control:checked~div.sk-toggleable__content {max-height: 200px;max-width: 100%;overflow: auto;}#sk-container-id-1 input.sk-toggleable__control:checked~label.sk-toggleable__label-arrow:before {content: \"▾\";}#sk-container-id-1 div.sk-estimator input.sk-toggleable__control:checked~label.sk-toggleable__label {background-color: #d4ebff;}#sk-container-id-1 div.sk-label input.sk-toggleable__control:checked~label.sk-toggleable__label {background-color: #d4ebff;}#sk-container-id-1 input.sk-hidden--visually {border: 0;clip: rect(1px 1px 1px 1px);clip: rect(1px, 1px, 1px, 1px);height: 1px;margin: -1px;overflow: hidden;padding: 0;position: absolute;width: 1px;}#sk-container-id-1 div.sk-estimator {font-family: monospace;background-color: #f0f8ff;border: 1px dotted black;border-radius: 0.25em;box-sizing: border-box;margin-bottom: 0.5em;}#sk-container-id-1 div.sk-estimator:hover {background-color: #d4ebff;}#sk-container-id-1 div.sk-parallel-item::after {content: \"\";width: 100%;border-bottom: 1px solid gray;flex-grow: 1;}#sk-container-id-1 div.sk-label:hover label.sk-toggleable__label {background-color: #d4ebff;}#sk-container-id-1 div.sk-serial::before {content: \"\";position: absolute;border-left: 1px solid gray;box-sizing: border-box;top: 0;bottom: 0;left: 50%;z-index: 0;}#sk-container-id-1 div.sk-serial {display: flex;flex-direction: column;align-items: center;background-color: white;padding-right: 0.2em;padding-left: 0.2em;position: relative;}#sk-container-id-1 div.sk-item {position: relative;z-index: 1;}#sk-container-id-1 div.sk-parallel {display: flex;align-items: stretch;justify-content: center;background-color: white;position: relative;}#sk-container-id-1 div.sk-item::before, #sk-container-id-1 div.sk-parallel-item::before {content: \"\";position: absolute;border-left: 1px solid gray;box-sizing: border-box;top: 0;bottom: 0;left: 50%;z-index: -1;}#sk-container-id-1 div.sk-parallel-item {display: flex;flex-direction: column;z-index: 1;position: relative;background-color: white;}#sk-container-id-1 div.sk-parallel-item:first-child::after {align-self: flex-end;width: 50%;}#sk-container-id-1 div.sk-parallel-item:last-child::after {align-self: flex-start;width: 50%;}#sk-container-id-1 div.sk-parallel-item:only-child::after {width: 0;}#sk-container-id-1 div.sk-dashed-wrapped {border: 1px dashed gray;margin: 0 0.4em 0.5em 0.4em;box-sizing: border-box;padding-bottom: 0.4em;background-color: white;}#sk-container-id-1 div.sk-label label {font-family: monospace;font-weight: bold;display: inline-block;line-height: 1.2em;}#sk-container-id-1 div.sk-label-container {text-align: center;}#sk-container-id-1 div.sk-container {/* jupyter's `normalize.less` sets `[hidden] { display: none; }` but bootstrap.min.css set `[hidden] { display: none !important; }` so we also need the `!important` here to be able to override the default hidden behavior on the sphinx rendered scikit-learn.org. See: https://github.com/scikit-learn/scikit-learn/issues/21755 */display: inline-block !important;position: relative;}#sk-container-id-1 div.sk-text-repr-fallback {display: none;}</style><div id=\"sk-container-id-1\" class=\"sk-top-container\"><div class=\"sk-text-repr-fallback\"><pre>GaussianNB()</pre><b>In a Jupyter environment, please rerun this cell to show the HTML representation or trust the notebook. <br />On GitHub, the HTML representation is unable to render, please try loading this page with nbviewer.org.</b></div><div class=\"sk-container\" hidden><div class=\"sk-item\"><div class=\"sk-estimator sk-toggleable\"><input class=\"sk-toggleable__control sk-hidden--visually\" id=\"sk-estimator-id-1\" type=\"checkbox\" checked><label for=\"sk-estimator-id-1\" class=\"sk-toggleable__label sk-toggleable__label-arrow\">GaussianNB</label><div class=\"sk-toggleable__content\"><pre>GaussianNB()</pre></div></div></div></div></div>"
      ],
      "text/plain": [
       "GaussianNB()"
      ]
     },
     "execution_count": 45,
     "metadata": {},
     "output_type": "execute_result"
    }
   ],
   "source": [
    "gaus = GaussianNB()\n",
    "gaus.fit(x_train,y_train)"
   ]
  },
  {
   "cell_type": "code",
   "execution_count": 46,
   "id": "c8d7acbf",
   "metadata": {},
   "outputs": [
    {
     "name": "stdout",
     "output_type": "stream",
     "text": [
      "Akurasi algoritma Naive Bayes dengan default paramater : {0.00023169601482854495}\n"
     ]
    }
   ],
   "source": [
    "predict_y = gaus.predict(x_test)\n",
    "akurasi = accuracy_score(y_test, predict_y)\n",
    "print(\"Akurasi algoritma Naive Bayes dengan default paramater :\", {akurasi})\n"
   ]
  },
  {
   "cell_type": "markdown",
   "id": "86690392",
   "metadata": {},
   "source": [
    "# K-Nearest Neighbour (KNN)"
   ]
  },
  {
   "cell_type": "code",
   "execution_count": 47,
   "id": "f5984c12",
   "metadata": {},
   "outputs": [
    {
     "data": {
      "text/html": [
       "<style>#sk-container-id-2 {color: black;background-color: white;}#sk-container-id-2 pre{padding: 0;}#sk-container-id-2 div.sk-toggleable {background-color: white;}#sk-container-id-2 label.sk-toggleable__label {cursor: pointer;display: block;width: 100%;margin-bottom: 0;padding: 0.3em;box-sizing: border-box;text-align: center;}#sk-container-id-2 label.sk-toggleable__label-arrow:before {content: \"▸\";float: left;margin-right: 0.25em;color: #696969;}#sk-container-id-2 label.sk-toggleable__label-arrow:hover:before {color: black;}#sk-container-id-2 div.sk-estimator:hover label.sk-toggleable__label-arrow:before {color: black;}#sk-container-id-2 div.sk-toggleable__content {max-height: 0;max-width: 0;overflow: hidden;text-align: left;background-color: #f0f8ff;}#sk-container-id-2 div.sk-toggleable__content pre {margin: 0.2em;color: black;border-radius: 0.25em;background-color: #f0f8ff;}#sk-container-id-2 input.sk-toggleable__control:checked~div.sk-toggleable__content {max-height: 200px;max-width: 100%;overflow: auto;}#sk-container-id-2 input.sk-toggleable__control:checked~label.sk-toggleable__label-arrow:before {content: \"▾\";}#sk-container-id-2 div.sk-estimator input.sk-toggleable__control:checked~label.sk-toggleable__label {background-color: #d4ebff;}#sk-container-id-2 div.sk-label input.sk-toggleable__control:checked~label.sk-toggleable__label {background-color: #d4ebff;}#sk-container-id-2 input.sk-hidden--visually {border: 0;clip: rect(1px 1px 1px 1px);clip: rect(1px, 1px, 1px, 1px);height: 1px;margin: -1px;overflow: hidden;padding: 0;position: absolute;width: 1px;}#sk-container-id-2 div.sk-estimator {font-family: monospace;background-color: #f0f8ff;border: 1px dotted black;border-radius: 0.25em;box-sizing: border-box;margin-bottom: 0.5em;}#sk-container-id-2 div.sk-estimator:hover {background-color: #d4ebff;}#sk-container-id-2 div.sk-parallel-item::after {content: \"\";width: 100%;border-bottom: 1px solid gray;flex-grow: 1;}#sk-container-id-2 div.sk-label:hover label.sk-toggleable__label {background-color: #d4ebff;}#sk-container-id-2 div.sk-serial::before {content: \"\";position: absolute;border-left: 1px solid gray;box-sizing: border-box;top: 0;bottom: 0;left: 50%;z-index: 0;}#sk-container-id-2 div.sk-serial {display: flex;flex-direction: column;align-items: center;background-color: white;padding-right: 0.2em;padding-left: 0.2em;position: relative;}#sk-container-id-2 div.sk-item {position: relative;z-index: 1;}#sk-container-id-2 div.sk-parallel {display: flex;align-items: stretch;justify-content: center;background-color: white;position: relative;}#sk-container-id-2 div.sk-item::before, #sk-container-id-2 div.sk-parallel-item::before {content: \"\";position: absolute;border-left: 1px solid gray;box-sizing: border-box;top: 0;bottom: 0;left: 50%;z-index: -1;}#sk-container-id-2 div.sk-parallel-item {display: flex;flex-direction: column;z-index: 1;position: relative;background-color: white;}#sk-container-id-2 div.sk-parallel-item:first-child::after {align-self: flex-end;width: 50%;}#sk-container-id-2 div.sk-parallel-item:last-child::after {align-self: flex-start;width: 50%;}#sk-container-id-2 div.sk-parallel-item:only-child::after {width: 0;}#sk-container-id-2 div.sk-dashed-wrapped {border: 1px dashed gray;margin: 0 0.4em 0.5em 0.4em;box-sizing: border-box;padding-bottom: 0.4em;background-color: white;}#sk-container-id-2 div.sk-label label {font-family: monospace;font-weight: bold;display: inline-block;line-height: 1.2em;}#sk-container-id-2 div.sk-label-container {text-align: center;}#sk-container-id-2 div.sk-container {/* jupyter's `normalize.less` sets `[hidden] { display: none; }` but bootstrap.min.css set `[hidden] { display: none !important; }` so we also need the `!important` here to be able to override the default hidden behavior on the sphinx rendered scikit-learn.org. See: https://github.com/scikit-learn/scikit-learn/issues/21755 */display: inline-block !important;position: relative;}#sk-container-id-2 div.sk-text-repr-fallback {display: none;}</style><div id=\"sk-container-id-2\" class=\"sk-top-container\"><div class=\"sk-text-repr-fallback\"><pre>KNeighborsClassifier()</pre><b>In a Jupyter environment, please rerun this cell to show the HTML representation or trust the notebook. <br />On GitHub, the HTML representation is unable to render, please try loading this page with nbviewer.org.</b></div><div class=\"sk-container\" hidden><div class=\"sk-item\"><div class=\"sk-estimator sk-toggleable\"><input class=\"sk-toggleable__control sk-hidden--visually\" id=\"sk-estimator-id-2\" type=\"checkbox\" checked><label for=\"sk-estimator-id-2\" class=\"sk-toggleable__label sk-toggleable__label-arrow\">KNeighborsClassifier</label><div class=\"sk-toggleable__content\"><pre>KNeighborsClassifier()</pre></div></div></div></div></div>"
      ],
      "text/plain": [
       "KNeighborsClassifier()"
      ]
     },
     "execution_count": 47,
     "metadata": {},
     "output_type": "execute_result"
    }
   ],
   "source": [
    "knn = KNeighborsClassifier(n_neighbors=5)\n",
    "knn.fit(x_train, y_train)"
   ]
  },
  {
   "cell_type": "code",
   "execution_count": 49,
   "id": "218889d3",
   "metadata": {},
   "outputs": [
    {
     "name": "stdout",
     "output_type": "stream",
     "text": [
      "Akurasi algoritma KNN dengan default paramater : {0.00023169601482854495}\n"
     ]
    }
   ],
   "source": [
    "predict_label = knn.predict(x_test)\n",
    "akurasi = accuracy_score(y_test, predict_y)\n",
    "print(\"Akurasi algoritma KNN dengan default paramater :\", {akurasi})"
   ]
  },
  {
   "cell_type": "markdown",
   "id": "990dcf15",
   "metadata": {},
   "source": [
    "# Regression\n"
   ]
  },
  {
   "cell_type": "code",
   "execution_count": 51,
   "id": "ffc1db21",
   "metadata": {},
   "outputs": [],
   "source": [
    "# Split Data\n",
    "\n",
    "x, y = datasets.load_diabetes(return_X_y=True)\n",
    "x = x[:, np.newaxis, 2]\n",
    "\n",
    "x_train2 = x[:-50]\n",
    "x_test2 = x[-50:]\n",
    "\n",
    "y_train2 = y[:-50]\n",
    "y_test2 = y[-50:]"
   ]
  },
  {
   "cell_type": "markdown",
   "id": "f1223ac7",
   "metadata": {},
   "source": [
    "### Linear Regression"
   ]
  },
  {
   "cell_type": "code",
   "execution_count": 57,
   "id": "64120b69",
   "metadata": {},
   "outputs": [
    {
     "data": {
      "text/html": [
       "<style>#sk-container-id-4 {color: black;background-color: white;}#sk-container-id-4 pre{padding: 0;}#sk-container-id-4 div.sk-toggleable {background-color: white;}#sk-container-id-4 label.sk-toggleable__label {cursor: pointer;display: block;width: 100%;margin-bottom: 0;padding: 0.3em;box-sizing: border-box;text-align: center;}#sk-container-id-4 label.sk-toggleable__label-arrow:before {content: \"▸\";float: left;margin-right: 0.25em;color: #696969;}#sk-container-id-4 label.sk-toggleable__label-arrow:hover:before {color: black;}#sk-container-id-4 div.sk-estimator:hover label.sk-toggleable__label-arrow:before {color: black;}#sk-container-id-4 div.sk-toggleable__content {max-height: 0;max-width: 0;overflow: hidden;text-align: left;background-color: #f0f8ff;}#sk-container-id-4 div.sk-toggleable__content pre {margin: 0.2em;color: black;border-radius: 0.25em;background-color: #f0f8ff;}#sk-container-id-4 input.sk-toggleable__control:checked~div.sk-toggleable__content {max-height: 200px;max-width: 100%;overflow: auto;}#sk-container-id-4 input.sk-toggleable__control:checked~label.sk-toggleable__label-arrow:before {content: \"▾\";}#sk-container-id-4 div.sk-estimator input.sk-toggleable__control:checked~label.sk-toggleable__label {background-color: #d4ebff;}#sk-container-id-4 div.sk-label input.sk-toggleable__control:checked~label.sk-toggleable__label {background-color: #d4ebff;}#sk-container-id-4 input.sk-hidden--visually {border: 0;clip: rect(1px 1px 1px 1px);clip: rect(1px, 1px, 1px, 1px);height: 1px;margin: -1px;overflow: hidden;padding: 0;position: absolute;width: 1px;}#sk-container-id-4 div.sk-estimator {font-family: monospace;background-color: #f0f8ff;border: 1px dotted black;border-radius: 0.25em;box-sizing: border-box;margin-bottom: 0.5em;}#sk-container-id-4 div.sk-estimator:hover {background-color: #d4ebff;}#sk-container-id-4 div.sk-parallel-item::after {content: \"\";width: 100%;border-bottom: 1px solid gray;flex-grow: 1;}#sk-container-id-4 div.sk-label:hover label.sk-toggleable__label {background-color: #d4ebff;}#sk-container-id-4 div.sk-serial::before {content: \"\";position: absolute;border-left: 1px solid gray;box-sizing: border-box;top: 0;bottom: 0;left: 50%;z-index: 0;}#sk-container-id-4 div.sk-serial {display: flex;flex-direction: column;align-items: center;background-color: white;padding-right: 0.2em;padding-left: 0.2em;position: relative;}#sk-container-id-4 div.sk-item {position: relative;z-index: 1;}#sk-container-id-4 div.sk-parallel {display: flex;align-items: stretch;justify-content: center;background-color: white;position: relative;}#sk-container-id-4 div.sk-item::before, #sk-container-id-4 div.sk-parallel-item::before {content: \"\";position: absolute;border-left: 1px solid gray;box-sizing: border-box;top: 0;bottom: 0;left: 50%;z-index: -1;}#sk-container-id-4 div.sk-parallel-item {display: flex;flex-direction: column;z-index: 1;position: relative;background-color: white;}#sk-container-id-4 div.sk-parallel-item:first-child::after {align-self: flex-end;width: 50%;}#sk-container-id-4 div.sk-parallel-item:last-child::after {align-self: flex-start;width: 50%;}#sk-container-id-4 div.sk-parallel-item:only-child::after {width: 0;}#sk-container-id-4 div.sk-dashed-wrapped {border: 1px dashed gray;margin: 0 0.4em 0.5em 0.4em;box-sizing: border-box;padding-bottom: 0.4em;background-color: white;}#sk-container-id-4 div.sk-label label {font-family: monospace;font-weight: bold;display: inline-block;line-height: 1.2em;}#sk-container-id-4 div.sk-label-container {text-align: center;}#sk-container-id-4 div.sk-container {/* jupyter's `normalize.less` sets `[hidden] { display: none; }` but bootstrap.min.css set `[hidden] { display: none !important; }` so we also need the `!important` here to be able to override the default hidden behavior on the sphinx rendered scikit-learn.org. See: https://github.com/scikit-learn/scikit-learn/issues/21755 */display: inline-block !important;position: relative;}#sk-container-id-4 div.sk-text-repr-fallback {display: none;}</style><div id=\"sk-container-id-4\" class=\"sk-top-container\"><div class=\"sk-text-repr-fallback\"><pre>LinearRegression()</pre><b>In a Jupyter environment, please rerun this cell to show the HTML representation or trust the notebook. <br />On GitHub, the HTML representation is unable to render, please try loading this page with nbviewer.org.</b></div><div class=\"sk-container\" hidden><div class=\"sk-item\"><div class=\"sk-estimator sk-toggleable\"><input class=\"sk-toggleable__control sk-hidden--visually\" id=\"sk-estimator-id-4\" type=\"checkbox\" checked><label for=\"sk-estimator-id-4\" class=\"sk-toggleable__label sk-toggleable__label-arrow\">LinearRegression</label><div class=\"sk-toggleable__content\"><pre>LinearRegression()</pre></div></div></div></div></div>"
      ],
      "text/plain": [
       "LinearRegression()"
      ]
     },
     "execution_count": 57,
     "metadata": {},
     "output_type": "execute_result"
    }
   ],
   "source": [
    "regresion = LinearRegression()\n",
    "regresion.fit(x_train2,y_train2)"
   ]
  },
  {
   "cell_type": "code",
   "execution_count": 60,
   "id": "60a952ad",
   "metadata": {},
   "outputs": [
    {
     "name": "stderr",
     "output_type": "stream",
     "text": [
      "No artists with labels found to put in legend.  Note that artists whose label start with an underscore are ignored when legend() is called with no argument.\n"
     ]
    },
    {
     "data": {
      "image/png": "[encoded data removed]",
      "text/plain": [
       "<Figure size 1000x500 with 1 Axes>"
      ]
     },
     "metadata": {},
     "output_type": "display_data"
    }
   ],
   "source": [
    "predict_y = regresion.predict(x_test2)\n",
    "\n",
    "plt.figure(figsize=(10,5))\n",
    "\n",
    "plt.scatter(x_test2, y_test2, color=\"red\",label=\"\")\n",
    "plt.plot(x_test2, predict_y, color=\"black\",label=\"\")\n",
    "plt.title('Linear Regression')\n",
    "plt.xlabel('Data test')\n",
    "plt.ylabel('Label')\n",
    "plt.legend(loc ='upper right')\n",
    "plt.show()"
   ]
  },
  {
   "cell_type": "code",
   "execution_count": null,
   "id": "2d947e23",
   "metadata": {},
   "outputs": [],
   "source": []
  }
 ],
 "metadata": {
  "kernelspec": {
   "display_name": "Python 3 (ipykernel)",
   "language": "python",
   "name": "python3"
  },
  "language_info": {
   "codemirror_mode": {
    "name": "ipython",
    "version": 3
   },
   "file_extension": ".py",
   "mimetype": "text/x-python",
   "name": "python",
   "nbconvert_exporter": "python",
   "pygments_lexer": "ipython3",
   "version": "3.10.7"
  }
 },
 "nbformat": 4,
 "nbformat_minor": 5
}
